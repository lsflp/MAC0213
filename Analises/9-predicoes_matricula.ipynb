{
 "cells": [
  {
   "cell_type": "markdown",
   "metadata": {},
   "source": [
    "# 9 - Predições das matrículas\n",
    "\n",
    "Para as matrículas, deseja-se atingir uma meta em relação à população. É possível prever como o número de matrículas vai crescer, mas a meta em relação à população precisa da estimativa da população para acontecer. "
   ]
  },
  {
   "cell_type": "code",
   "execution_count": 10,
   "metadata": {},
   "outputs": [],
   "source": [
    "import pandas as pd\n",
    "import numpy as np\n",
    "import matplotlib.pylab as plt\n",
    "\n",
    "from matplotlib.pylab import rcParams\n",
    "rcParams['figure.figsize'] = 15, 6\n",
    "\n",
    "dateparse = lambda dates: pd.datetime.strptime(dates, '%Y-%m')\n",
    "dados_educ_pop = pd.read_csv('dados/dados_educ_pop.csv', sep = ',', parse_dates=['ANO_MES'], index_col='ANO_MES', date_parser=dateparse) \n",
    "\n",
    "# Só precisamos do distrito e da matrícula, para esse caso\n",
    "dados_matricula = dados_educ_pop[['DISTRITO', 'MAT_CRECHE', 'DISTRITO_F']]"
   ]
  },
  {
   "cell_type": "markdown",
   "metadata": {},
   "source": [
    "Usando o modelo de predição ARIMA, sigla para Média móvel integrada autoregressiva, que forneceu o menor erro médio nos testes, vamos prever como as matrículas vão se comportar. Além disso, vamos ver quando a meta de atendimento pode ser batida, baseando-se na média de população entre 1995 e 2018."
   ]
  },
  {
   "cell_type": "code",
   "execution_count": 11,
   "metadata": {},
   "outputs": [],
   "source": [
    "# Pegando os dados populacionais de 1995 a 2018\n",
    "dados_pop = pd.read_csv('dados/populacao2.csv', sep = ';', encoding = 'ISO-8859-1')\n",
    "dados_pop = dados_pop[[\"Localidades\", \"População de 0 a 3 Anos\"]]\n",
    "dados_pop.columns = ['DISTRITO', 'TOTAL']\n",
    "\n",
    "# Calculando a média\n",
    "dados_pop = dados_pop.groupby(['DISTRITO'])['TOTAL'].mean().to_frame().reset_index()"
   ]
  },
  {
   "cell_type": "markdown",
   "metadata": {},
   "source": [
    "Agora, vamos gerar os modelos preditivos e comparar os resultados com a média populacional."
   ]
  },
  {
   "cell_type": "code",
   "execution_count": 13,
   "metadata": {},
   "outputs": [],
   "source": [
    "import statsmodels.api as sm\n",
    "\n",
    "# Definindo a meta\n",
    "meta = 0.8\n",
    "\n",
    "for distrito in dados_matricula['DISTRITO'].unique():\n",
    "    dados_matricula = dados_educ_pop[dados_educ_pop['DISTRITO'] == distrito]\n",
    "    distrito_f = dados_matricula.at[dados_matricula.index[0], 'DISTRITO_F']\n",
    "\n",
    "    # Gerando o modelo\n",
    "    fit1 = sm.tsa.statespace.SARIMAX(dados_matricula['MAT_CRECHE'], order=(2, 1, 4),seasonal_order=(0,1,1,4)).fit()\n",
    "    matricula_prevista = fit1.predict(start=\"2018-03-01\", end=\"2030-12-01\", dynamic=True)\n",
    "\n",
    "    # Pegando a média populacional\n",
    "    pop = dados_pop[dados_pop['DISTRITO'] == distrito_f]['TOTAL'].values[0]\n",
    "\n",
    "    # Verificando se a meta foi atingida\n",
    "    atingiu = False\n",
    "    for index, element in matricula_prevista.iteritems():\n",
    "        if element/pop >= meta:\n",
    "            data = str(index)\n",
    "            print(distrito_f + \" - \" + data[5:7] + '/' + data[:4])\n",
    "            atingiu = True\n",
    "            break\n",
    "    if not atingiu:\n",
    "            print(\"O distrito \" + distrito_f + \" só vai atingir a meta a partir de 2031.\")\n",
    "\n",
    "    # Gerando o gráfico\n",
    "    plt.ioff()\n",
    "    fig = plt.figure(dpi=200, figsize=(10, 6))\n",
    "    plt.title('Evolução das matrículas das creches em ' + distrito)\n",
    "    plt.plot(dados_matricula['MAT_CRECHE'], label='Matrículas registradas nas creches do distrito', color='c', linewidth=5.0)\n",
    "    plt.plot(matricula_prevista, label='Matrículas previstas nas creches do distrito', color='midnightblue', linewidth=5.0)\n",
    "    plt.legend(loc='upper center', bbox_to_anchor=(0.5, -0.2),  shadow=True, ncol=2)\n",
    "    plt.ylabel('Crianças de 0 a 3 anos')\n",
    "    plt.xlabel('Data de Referência')\n",
    "    plt.xticks(rotation=90)\n",
    "    plt.savefig('graficos/previsao_matricula_' + distrito + '.png', bbox_inches='tight')\n",
    "    plt.close(fig)"
   ]
  }
 ],
 "metadata": {
  "kernelspec": {
   "display_name": "Python 3",
   "language": "python",
   "name": "python3"
  },
  "language_info": {
   "codemirror_mode": {
    "name": "ipython",
    "version": 3
   },
   "file_extension": ".py",
   "mimetype": "text/x-python",
   "name": "python",
   "nbconvert_exporter": "python",
   "pygments_lexer": "ipython3",
   "version": "3.6.6"
  }
 },
 "nbformat": 4,
 "nbformat_minor": 2
}
