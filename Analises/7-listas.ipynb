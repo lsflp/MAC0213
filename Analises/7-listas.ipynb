{
 "cells": [
  {
   "cell_type": "markdown",
   "metadata": {},
   "source": [
    "# 7 - Listas\n",
    "\n",
    "Como parte da análise, faremos aqui duas listas, mostrando a evolução do atendimento e da demanda nas creches da cidade, por distrito."
   ]
  },
  {
   "cell_type": "code",
   "execution_count": 2,
   "metadata": {},
   "outputs": [],
   "source": [
    "import pandas as pd\n",
    "import matplotlib.pyplot as plt\n",
    "\n",
    "dados_educ_pop = pd.read_csv('dados/dados_educ_pop.csv', sep = ',')"
   ]
  },
  {
   "cell_type": "markdown",
   "metadata": {},
   "source": [
    "Vamos pegar apenas os dados que queremos comparar, que são o primeiro (junho de 2006) e o último (dezembro de 2006)."
   ]
  },
  {
   "cell_type": "code",
   "execution_count": 3,
   "metadata": {},
   "outputs": [],
   "source": [
    "dados_2006 = dados_educ_pop[dados_educ_pop.MES_ANO_REF == 'jun-06']\n",
    "dados_2017 = dados_educ_pop[dados_educ_pop.MES_ANO_REF == 'dez-17']"
   ]
  },
  {
   "cell_type": "markdown",
   "metadata": {},
   "source": [
    "A primeira lista feita será a do atendimento."
   ]
  },
  {
   "cell_type": "code",
   "execution_count": 8,
   "metadata": {},
   "outputs": [],
   "source": [
    "from matplotlib.pyplot import figure\n",
    "plt.style.use('ggplot')\n",
    "figure(num=None, figsize=(15, 37), dpi=100, facecolor='w', edgecolor='k')\n",
    "\n",
    "dados_atendimento_2006 = dados_2006[['DISTRITO_F', 'MAT_CRECHE']]\n",
    "dados_atendimento_2017 = dados_2017[['DISTRITO_F', 'MAT_CRECHE']]\n",
    "\n",
    "dados_atendimento = dados_atendimento_2006.merge(dados_atendimento_2017, on = ['DISTRITO_F'])\n",
    "dados_atendimento.columns = ['NOME', 'MAT_2006', 'MAT_2017']\n",
    "\n",
    "dados_atendimento = dados_atendimento.sort_values(by='MAT_2017', ascending=True)\n",
    "dados_atendimento = dados_atendimento.reset_index(drop=True)\n",
    "\n",
    "for i in dados_atendimento.index:\n",
    "    j = 96 - i\n",
    "    dados_atendimento.at[i, 'NOME'] = str(j) + '. ' + dados_atendimento.at[i, 'NOME']\n",
    "\n",
    "plt.barh(dados_atendimento['NOME'], dados_atendimento['MAT_2017'], label = 'Matrículas criadas de junho de 2006 a dezembro de 2017', color = 'midnightblue')\n",
    "plt.barh(dados_atendimento['NOME'], dados_atendimento['MAT_2006'], label = 'Matrículas em junho de 2006', color = 'steelblue')\n",
    "plt.tick_params(axis='both', which='major', labelsize=18)\n",
    "plt.legend(loc='upper center', bbox_to_anchor=(0.5, -0.02), shadow=True, ncol=2)\n",
    "plt.tick_params(labeltop=True)\n",
    "for y, x in enumerate(dados_atendimento['MAT_2017']):\n",
    "    plt.annotate(int(x), xy=(x+100, y), va='center')\n",
    "plt.show()"
   ]
  },
  {
   "cell_type": "markdown",
   "metadata": {},
   "source": [
    "A segunda lista será a da demanda. Como a fila é sazonal, não é justo comparar meses diferentes. Por isso, os meses tratados são o mesmo."
   ]
  },
  {
   "cell_type": "code",
   "execution_count": 9,
   "metadata": {},
   "outputs": [],
   "source": [
    "dados_2006 = dados_educ_pop[dados_educ_pop.MES_ANO_REF == 'dez-06']\n",
    "dados_2017 = dados_educ_pop[dados_educ_pop.MES_ANO_REF == 'dez-17']\n",
    "\n",
    "dados_demanda_2006 = dados_2006[['DISTRITO_F', 'DEM_CRECHE']]\n",
    "dados_demanda_2017 = dados_2017[['DISTRITO_F', 'DEM_CRECHE']]\n",
    "\n",
    "dados_demanda = dados_demanda_2006.merge(dados_demanda_2017, on = ['DISTRITO_F'])\n",
    "dados_demanda.columns = ['Distrito', 'Demanda em dez-06', 'Demanda em dez-17']\n",
    "\n",
    "for i in dados_demanda.index:\n",
    "    dados_demanda['foo'] = 0\n",
    "     \n",
    "dados_demanda = dados_demanda[['Distrito', 'Demanda em dez-06', 'foo', 'Demanda em dez-17']]\n",
    "\n",
    "ax = dados_demanda.set_index('Distrito', drop=True).plot(kind='bar', figsize=(46, 8), cmap='RdYlGn')\n",
    "for patch in ax.patches:\n",
    "    bl = patch.get_xy()\n",
    "    x = 0.5 * patch.get_width() + bl[0]\n",
    "    # change 0.92 to move the text up and down\n",
    "    height = patch.get_height()\n",
    "    if (height > 0):\n",
    "        if (height > 50):\n",
    "            y = height + 215\n",
    "        ax.text(x,y,'%d' %(patch.get_height()), ha='center', rotation='vertical', fontsize=9)"
   ]
  }
 ],
 "metadata": {
  "kernelspec": {
   "display_name": "Python 3",
   "language": "python",
   "name": "python3"
  },
  "language_info": {
   "codemirror_mode": {
    "name": "ipython",
    "version": 3
   },
   "file_extension": ".py",
   "mimetype": "text/x-python",
   "name": "python",
   "nbconvert_exporter": "python",
   "pygments_lexer": "ipython3",
   "version": "3.6.7"
  }
 },
 "nbformat": 4,
 "nbformat_minor": 2
}
