{
 "cells": [
  {
   "cell_type": "markdown",
   "metadata": {},
   "source": [
    "# 1 - Filtro dos dados dos arquivos"
   ]
  },
  {
   "cell_type": "markdown",
   "metadata": {},
   "source": [
    "Para que a análise seja mais eficiente, é necessário passar um certo filtro nos dados. O objetivo é, a partir dos dois arquivos de entrada (dados educacionais e dados populacionais), gerar apenas um arquivo que contenha apenas a informação necessária. Os dados das matrículas na rede municipal de educação vieram [daqui](http://dados.prefeitura.sp.gov.br/dataset/demanda-por-vagas-educacao-infantil-e-eja). Já os populacionais vieram do site da [SEADE](http://produtos.seade.gov.br/produtos/projpop/), a partir de uma tabela nova."
   ]
  },
  {
   "cell_type": "code",
   "execution_count": 2,
   "metadata": {},
   "outputs": [],
   "source": [
    "import pandas as pd\n",
    "\n",
    "dados_educ = pd.read_csv('dados/evolucaodemanda.csv', sep = ';')\n",
    "dados_pop = pd.read_csv('dados/populacao.csv', sep = ';', encoding = 'ISO-8859-1')"
   ]
  },
  {
   "cell_type": "markdown",
   "metadata": {},
   "source": [
    "Para os dados educacionais, temos que filtrar apenas as colunas que necessárias. Além disso, é preciso limpar os dados, pois algumas linhas possuem os números com um ponto (.) para indicar o milhar. Por conveniência, o mês e o ano de referência serão deixados em colunas separadas. "
   ]
  },
  {
   "cell_type": "code",
   "execution_count": 3,
   "metadata": {},
   "outputs": [],
   "source": [
    "for i in dados_educ.index:\n",
    "    if not dados_educ.at[i, 'MAT_CRECHE'].is_integer():\n",
    "        dados_educ.at[i, 'MAT_CRECHE'] = round(dados_educ.at[i, 'MAT_CRECHE']*1000)\n",
    "    if not dados_educ.at[i, 'DEM_CRECHE'].is_integer():\n",
    "        dados_educ.at[i, 'DEM_CRECHE'] = round(dados_educ.at[i, 'DEM_CRECHE']*1000)\n",
    "    dados_educ.at[i, 'MES'] = dados_educ.at[i, 'MES_ANO_REF'][:3]\n",
    "    dados_educ.at[i, 'ANO'] = int(dados_educ.at[i, 'MES_ANO_REF'][4:]) + 2000\n",
    "       \n",
    "dados_educ = dados_educ[['DISTRITO', 'MAT_CRECHE', 'DEM_CRECHE', 'MES', 'ANO', 'MES_ANO_REF']]"
   ]
  },
  {
   "cell_type": "markdown",
   "metadata": {},
   "source": [
    "Para que os dados populacionais fiquem mais próximos aos educacionais, vamos alterar o nome do distrito, deixando-o sem acentos e com caixa alta. Como os dados da população estão em números inteiros, não precisaremos remover os eventuais pontos (.) que indicam o milhar. Além disso, as colunas que selecionaremos terão os mesmos nomes nas nossas duas bases de dados (educação e população)."
   ]
  },
  {
   "cell_type": "code",
   "execution_count": 4,
   "metadata": {},
   "outputs": [],
   "source": [
    "dados_pop = dados_pop[['Localidades', 'Períodos', 'População de 0 a 3 Anos']]\n",
    "dados_pop.columns = ['DISTRITO_F', 'ANO', 'TOTAL']\n",
    "    \n",
    "dados_pop['DISTRITO'] = dados_pop['DISTRITO_F'].str.normalize('NFKD')\n",
    "dados_pop['DISTRITO'] = dados_pop['DISTRITO'].str.encode('ascii', errors='ignore').str.decode('utf-8')\n",
    "dados_pop['DISTRITO'] = dados_pop['DISTRITO'].str.upper()"
   ]
  },
  {
   "cell_type": "markdown",
   "metadata": {},
   "source": [
    "Precisamos juntar os dados, para que a análise seja feita de maneira mais eficiente. Teremos um dicionário com os seguintes valores:\n",
    "\n",
    "- Nome do distrito (em caixa alta e sem acentos);\n",
    "- Número de matriculas em creches;\n",
    "- Demanda de vagas em creches;\n",
    "- Mês e ano de referência;\n",
    "- População do distrito na faixa etária 00 a 03 anos."
   ]
  },
  {
   "cell_type": "code",
   "execution_count": 5,
   "metadata": {},
   "outputs": [],
   "source": [
    "dados_educ_pop = dados_educ.merge(dados_pop, on = ['DISTRITO', 'ANO'])"
   ]
  },
  {
   "cell_type": "markdown",
   "metadata": {},
   "source": [
    "Vamos pegar também a sigla dos distritos, para uso posterior."
   ]
  },
  {
   "cell_type": "code",
   "execution_count": 6,
   "metadata": {},
   "outputs": [],
   "source": [
    "import geopandas as gpd\n",
    "\n",
    "distritos = gpd.read_file('dados/LAYER_DISTRITO/DEINFO_DISTRITO.shp')\n",
    "\n",
    "for i in distritos.index:\n",
    "    nome = distritos.at[i, 'NOME_DIST'].split(' ')\n",
    "    if 'JD' in nome:\n",
    "        nome[0] = 'JARDIM'\n",
    "    if 'CID' in nome:\n",
    "        nome[0] = 'CIDADE'\n",
    "    distritos.at[i, 'NOME_DIST'] = ' '.join(nome)\n",
    "\n",
    "dados_educ_pop = dados_educ_pop.merge(distritos, left_on = 'DISTRITO', right_on = 'NOME_DIST')\n",
    "dados_educ_pop = dados_educ_pop[['DISTRITO', 'MAT_CRECHE', 'DEM_CRECHE', 'MES', 'ANO', 'MES_ANO_REF', 'DISTRITO_F', 'TOTAL', 'SIGLA_DIST']]"
   ]
  },
  {
   "cell_type": "markdown",
   "metadata": {},
   "source": [
    "Além disso, vamos guardar o período de referência no formato yyyy-mm."
   ]
  },
  {
   "cell_type": "code",
   "execution_count": 7,
   "metadata": {},
   "outputs": [],
   "source": [
    "meses = {\"mar\" : \"03\", \"jun\" : \"06\", \"set\" : \"09\", \"dez\" : \"12\"}\n",
    "\n",
    "for i in dados_educ_pop.index:\n",
    "    dados_educ_pop.at[i, 'ANO_MES'] = str(int(dados_educ_pop.at[i, 'ANO'])) + '-' + meses.get(dados_educ_pop.at[i, 'MES_ANO_REF'][:3])"
   ]
  },
  {
   "cell_type": "markdown",
   "metadata": {},
   "source": [
    "Tal dicionário será salvo num arquivo."
   ]
  },
  {
   "cell_type": "code",
   "execution_count": 10,
   "metadata": {},
   "outputs": [],
   "source": [
    "dados_educ_pop.to_csv('dados/dados_educ_pop.csv', encoding='utf-8', index=False)"
   ]
  }
 ],
 "metadata": {
  "kernelspec": {
   "display_name": "Python 3",
   "language": "python",
   "name": "python3"
  },
  "language_info": {
   "codemirror_mode": {
    "name": "ipython",
    "version": 3
   },
   "file_extension": ".py",
   "mimetype": "text/x-python",
   "name": "python",
   "nbconvert_exporter": "python",
   "pygments_lexer": "ipython3",
   "version": "3.6.6"
  }
 },
 "nbformat": 4,
 "nbformat_minor": 2
}
