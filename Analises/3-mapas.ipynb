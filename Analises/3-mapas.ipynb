{
 "cells": [
  {
   "cell_type": "markdown",
   "metadata": {},
   "source": [
    "# 3 - Mapas\n",
    "\n",
    "Vamos também gerar alguns mapas como parte de nossa análise de dados. Afinal, temos 96 gráficos, e precisamos extrair as principais informações dos dados. Os mapas que faremos serão:\n",
    "\n",
    "- Atendimento (matrícula) absoluto por tempo.\n",
    "- Atendimento (matrícula) relativo (relação à população) por tempo.\n",
    "- Fila (demanda) absoluto por tempo.\n",
    "- Fila (demanda) relativo por tempo.\n",
    "- Variação entre junho de 2016 e dezembro de 2017 do atendimento absoluto.\n",
    "- Variação entre junho de 2016 e dezembro de 2017 do atendimento relativo.\n",
    "\n",
    "Primeiro, pegaremos os dados e faremos a função que gera os gráficos."
   ]
  },
  {
   "cell_type": "code",
   "execution_count": 12,
   "metadata": {},
   "outputs": [],
   "source": [
    "import pandas as pd\n",
    "import geopandas as gpd\n",
    "import matplotlib.pyplot as plt\n",
    "import imageio\n",
    "from pylab import rcParams\n",
    "from matplotlib.pyplot import figure\n",
    "\n",
    "rcParams['figure.figsize'] = 9, 12\n",
    "rcParams['figure.dpi'] = 200\n",
    "\n",
    "dados_educ_pop = pd.read_csv('dados/dados_educ_pop.csv', sep = ',')\n",
    "distritos = gpd.read_file('dados/LAYER_DISTRITO/DEINFO_DISTRITO.shp')\n",
    "\n",
    "def geraMapa(periodo, tema, atributo, colormap='inferno'):\n",
    "    dados = dados_educ_pop[dados_educ_pop['MES_ANO_REF'] == periodo]\n",
    "    dados = dados[['DISTRITO', atributo]]\n",
    "\n",
    "    for i in distritos.index:\n",
    "        nome = distritos.at[i, 'NOME_DIST'].split(' ')\n",
    "        if 'JD' in nome:\n",
    "            nome[0] = 'JARDIM'\n",
    "        if 'CID' in nome:\n",
    "            nome[0] = 'CIDADE'\n",
    "        distritos.at[i, 'NOME_DIST'] = ' '.join(nome)\n",
    "        recorte = dados[dados['DISTRITO'] == distritos.at[i, 'NOME_DIST']]\n",
    "        distritos.at[i, atributo] = recorte[atributo].values[0]\n",
    "            \n",
    "    plt.ioff()\n",
    "    ax = distritos.plot(column=atributo, cmap=colormap, legend=True)\n",
    "    ax.set_title(periodo)\n",
    "    ax.axis('off')\n",
    "    plt.savefig('mapas/' + atributo + '_' + periodo + '.png', bbox_inches='tight')\n",
    "    plt.close()\n",
    "    \n",
    "def geraGif(periodos, atributo):\n",
    "    with imageio.get_writer('gifs/' + atributo + '.gif', mode='I', duration=0.2) as writer:\n",
    "        for periodo in periodos:\n",
    "            image = imageio.imread('mapas/' + atributo + '_' + periodo + '.png')\n",
    "            writer.append_data(image)"
   ]
  },
  {
   "cell_type": "markdown",
   "metadata": {},
   "source": [
    "## Mapas do atendimento absoluto por tempo\n",
    "\n",
    "Para esses mapas, será gerado um imagem para cada período de referência (trimestre). Depois disso, será gerado um gif para ver melhor a evolução."
   ]
  },
  {
   "cell_type": "code",
   "execution_count": 13,
   "metadata": {},
   "outputs": [],
   "source": [
    "periodos = dados_educ_pop.MES_ANO_REF.unique()\n",
    "\n",
    "for periodo in periodos:\n",
    "    geraMapa(periodo=periodo, tema='Atendimento absoluto das creches', atributo='MAT_CRECHE', colormap='viridis')\n",
    "    \n",
    "geraGif(periodos, 'MAT_CRECHE')"
   ]
  },
  {
   "cell_type": "markdown",
   "metadata": {},
   "source": [
    "## Mapa do atendimento relativo por tempo\n",
    "\n",
    "Para esses mapas, será gerado um imagem para cada período de referência (trimestre). Depois disso, será gerado um gif para ver melhor a evolução."
   ]
  },
  {
   "cell_type": "code",
   "execution_count": 14,
   "metadata": {},
   "outputs": [],
   "source": [
    "dados_educ_pop['ATEND_REL'] = dados_educ_pop['MAT_CRECHE'] / dados_educ_pop['TOTAL']\n",
    "\n",
    "for periodo in periodos:\n",
    "    geraMapa(periodo=periodo, tema='Atendimento relativo à população', atributo='ATEND_REL', colormap=\"viridis\")\n",
    "    \n",
    "geraGif(periodos, 'ATEND_REL')"
   ]
  },
  {
   "cell_type": "markdown",
   "metadata": {},
   "source": [
    "## Mapa da fila absoluta por tempo\n",
    "\n",
    "Para esses mapas, será gerado um imagem para cada período de referência (trimestre). Depois disso, será gerado um gif para ver melhor a evolução."
   ]
  },
  {
   "cell_type": "code",
   "execution_count": 15,
   "metadata": {},
   "outputs": [],
   "source": [
    "for periodo in periodos:\n",
    "    geraMapa(periodo=periodo, tema='Demanda por vagas de creches', atributo='DEM_CRECHE')\n",
    "    \n",
    "geraGif(periodos, 'DEM_CRECHE')"
   ]
  },
  {
   "cell_type": "markdown",
   "metadata": {},
   "source": [
    "## Mapa da fila relativa por tempo\n",
    "\n",
    "Para esses mapas, será gerado um imagem para cada período de referência (trimestre). Depois disso, será gerado um gif para ver melhor a evolução."
   ]
  },
  {
   "cell_type": "code",
   "execution_count": 16,
   "metadata": {},
   "outputs": [],
   "source": [
    "dados_educ_pop['FILA_REL'] = dados_educ_pop['DEM_CRECHE'] / dados_educ_pop['TOTAL']\n",
    "\n",
    "for periodo in periodos:\n",
    "    geraMapa(periodo=periodo, tema='Demanda por vagas de creches', atributo='FILA_REL')\n",
    "    \n",
    "geraGif(periodos, 'FILA_REL')"
   ]
  },
  {
   "cell_type": "markdown",
   "metadata": {},
   "source": [
    "## Mapa da evolução do número de matrículas\n",
    "\n",
    "Esses mapas trarão a variação, do número de matrículas, de junho de 2006 a dezembro de 2017. O primeiro apresenta as vagas absolutas e o segundo, as relativas à população."
   ]
  },
  {
   "cell_type": "code",
   "execution_count": 17,
   "metadata": {},
   "outputs": [],
   "source": [
    "def geraMapaEvolucao(data, atributo, tema, dono, colormap=\"inferno\"):\n",
    "    data = data[['DISTRITO', atributo]]\n",
    "\n",
    "    for i in data.index:\n",
    "        recorte = data[data['DISTRITO'] == distritos.at[i, 'NOME_DIST']]\n",
    "        distritos.at[i, atributo] = recorte[atributo].values[0]\n",
    "            \n",
    "    plt.ioff()\n",
    "    ax = distritos.plot(column=atributo, cmap=colormap, legend=True)\n",
    "    ax.set_title('')\n",
    "    ax.axis('off')\n",
    "    plt.savefig('mapas/' + atributo + '_' + dono + '.png', bbox_inches='tight')\n",
    "    plt.close()\n",
    "\n",
    "dados_matricula = dados_educ_pop[['DISTRITO', 'MAT_CRECHE', 'MES_ANO_REF']]\n",
    "dados_jun_2006 = dados_matricula[dados_matricula['MES_ANO_REF'] == 'jun-06']\n",
    "dados_jun_2006.columns = ['DISTRITO', 'MAT_JUN_06', 'MES_ANO_REF']\n",
    "dados_dez_2017 = dados_matricula[dados_matricula['MES_ANO_REF'] == 'dez-17']\n",
    "dados_dez_2017.columns = ['DISTRITO', 'MAT_DEZ_17', 'MES_ANO_REF']\n",
    "\n",
    "dados_matricula = dados_jun_2006.merge(dados_dez_2017, on = ['DISTRITO'])\n",
    "dados_matricula = dados_matricula[['DISTRITO', 'MAT_JUN_06', 'MAT_DEZ_17']]\n",
    "\n",
    "dados_matricula['EV_ABS_NUM'] = dados_matricula['MAT_DEZ_17'] - dados_matricula['MAT_JUN_06']\n",
    "dados_matricula['EV_ABS_PC'] = dados_matricula['MAT_DEZ_17'] / dados_matricula['MAT_JUN_06']\n",
    "geraMapaEvolucao(dados_matricula, 'EV_ABS_NUM', dono='creche', tema=\"Evolução absoluta no número de matrículas dez-06 a dez-17\", colormap=\"viridis\")\n",
    "geraMapaEvolucao(dados_matricula, 'EV_ABS_PC', dono='creche', tema=\"Evolução relativa no número de matrículas dez-06 a dez-17\", colormap=\"viridis\")"
   ]
  },
  {
   "cell_type": "markdown",
   "metadata": {},
   "source": [
    "## Mapa da evolução da demanda\n",
    "\n",
    "Esses mapas trará a variação, em número de crianças, de junho de 2006 a dezembro de 2017. O primeiro apresenta a demanda absoluta e o segundo, a relativa à população."
   ]
  },
  {
   "cell_type": "code",
   "execution_count": 18,
   "metadata": {},
   "outputs": [],
   "source": [
    "dados_demanda = dados_educ_pop[['DISTRITO', 'DEM_CRECHE', 'MES_ANO_REF']]\n",
    "dados_jun_2006 = dados_demanda[dados_demanda['MES_ANO_REF'] == 'jun-06']\n",
    "dados_jun_2006.columns = ['DISTRITO', 'DEM_JUN_06', 'MES_ANO_REF']\n",
    "dados_dez_2017 = dados_demanda[dados_demanda['MES_ANO_REF'] == 'dez-17']\n",
    "dados_dez_2017.columns = ['DISTRITO', 'DEM_DEZ_17', 'MES_ANO_REF']\n",
    "\n",
    "dados_demanda = dados_jun_2006.merge(dados_dez_2017, on = ['DISTRITO'])\n",
    "dados_demanda = dados_demanda[['DISTRITO', 'DEM_JUN_06', 'DEM_DEZ_17']]\n",
    "\n",
    "dados_demanda['EV_ABS_NUM'] = dados_demanda['DEM_DEZ_17'] - dados_demanda['DEM_JUN_06']\n",
    "dados_demanda['EV_ABS_PC'] = dados_demanda['DEM_DEZ_17'] / dados_demanda['DEM_JUN_06']\n",
    "geraMapaEvolucao(dados_demanda, 'EV_ABS_NUM', dono='fila', tema=\"Evolução absoluta no tamanho da fila de dez-06 a dez-17\")\n",
    "geraMapaEvolucao(dados_demanda, 'EV_ABS_PC', dono='fila', tema=\"Evolução relativa no tamanho da fila de dez-06 a dez-17\")"
   ]
  }
 ],
 "metadata": {
  "kernelspec": {
   "display_name": "Python 3",
   "language": "python",
   "name": "python3"
  },
  "language_info": {
   "codemirror_mode": {
    "name": "ipython",
    "version": 3
   },
   "file_extension": ".py",
   "mimetype": "text/x-python",
   "name": "python",
   "nbconvert_exporter": "python",
   "pygments_lexer": "ipython3",
   "version": "3.5.2"
  }
 },
 "nbformat": 4,
 "nbformat_minor": 2
}
