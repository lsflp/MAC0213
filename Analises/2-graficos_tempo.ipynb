{
 "cells": [
  {
   "cell_type": "markdown",
   "metadata": {},
   "source": [
    "# 2 - Visualização dos dados\n",
    "\n",
    "## Gráficos\n",
    "\n",
    "Para que a análise fique mais visual, vamos exibir alguns gráficos. Eles mostrarão, para cada distrito, a evolução do atendimento e da demanda das creches municipais, em relação ao tempo. Eles ficarão salvos na pasta `graficos`. Os dados usados serão os que fizemos o filtro."
   ]
  },
  {
   "cell_type": "code",
   "execution_count": 11,
   "metadata": {},
   "outputs": [],
   "source": [
    "import pandas as pd\n",
    "\n",
    "dados_educ_pop = pd.read_csv('dados/dados_educ_pop.csv', sep = ',')"
   ]
  },
  {
   "cell_type": "markdown",
   "metadata": {},
   "source": [
    "Para gerar os gráficos, usaremos a [matplotlib](https://matplotlib.org/)."
   ]
  },
  {
   "cell_type": "code",
   "execution_count": 12,
   "metadata": {},
   "outputs": [],
   "source": [
    "import matplotlib.pyplot as plt\n",
    "\n",
    "for distrito in dados_educ_pop.DISTRITO.unique():\n",
    "    dados = dados_educ_pop[dados_educ_pop['DISTRITO'] == distrito]\n",
    "    plt.ioff()\n",
    "    fig = plt.figure(dpi=400, figsize=(14, 6))\n",
    "    plt.title('Evolução do atendimento das creches em ' + dados.at[dados.index[0], 'DISTRITO_F'])\n",
    "    plt.plot(dados['MES_ANO_REF'], dados['MAT_CRECHE'], label='Matrículas nas creches do distrito', color='g')\n",
    "    plt.plot(dados['MES_ANO_REF'], dados['DEM_CRECHE'], label='Demanda no distrito', color='r')\n",
    "    plt.plot(dados['MES_ANO_REF'], dados['TOTAL'], label='Total da população no distrito', color='b')\n",
    "    plt.legend(loc='upper center', bbox_to_anchor=(0.5, -0.2),  shadow=True, ncol=2)\n",
    "    plt.ylabel('Crianças de 0 a 3 anos')\n",
    "    plt.xlabel('Data de Referência')\n",
    "    plt.xticks(rotation=90)\n",
    "    plt.savefig('graficos/' + distrito + '.png', bbox_inches='tight')\n",
    "    plt.close(fig)"
   ]
  }
 ],
 "metadata": {
  "kernelspec": {
   "display_name": "Python 3",
   "language": "python",
   "name": "python3"
  },
  "language_info": {
   "codemirror_mode": {
    "name": "ipython",
    "version": 3
   },
   "file_extension": ".py",
   "mimetype": "text/x-python",
   "name": "python",
   "nbconvert_exporter": "python",
   "pygments_lexer": "ipython3",
   "version": "3.6.6"
  }
 },
 "nbformat": 4,
 "nbformat_minor": 2
}
