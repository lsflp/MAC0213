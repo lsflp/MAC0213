{
 "cells": [
  {
   "cell_type": "markdown",
   "metadata": {},
   "source": [
    "# 8 - Predições\n",
    "\n",
    "\n",
    "Para entender como o atendimento pode se comportar num futuro próximo, vamos usar modelos preditivos. Assim, vamos tentar estimar algumas metas da Secretaria Municipal de Educação."
   ]
  },
  {
   "cell_type": "markdown",
   "metadata": {},
   "source": [
    "## Predição da demanda\n",
    "\n",
    "Vamos começar com a demanda. A meta é zerá-la. Portanto, vamos calcular quando isso acontece:"
   ]
  },
  {
   "cell_type": "code",
   "execution_count": 131,
   "metadata": {},
   "outputs": [],
   "source": [
    "import pandas as pd\n",
    "import numpy as np\n",
    "import matplotlib.pylab as plt\n",
    "\n",
    "from matplotlib.pylab import rcParams\n",
    "rcParams['figure.figsize'] = 15, 6\n",
    "\n",
    "dateparse = lambda dates: pd.datetime.strptime(dates, '%Y-%m')\n",
    "dados_educ_pop = pd.read_csv('dados/dados_educ_pop.csv', sep = ',', parse_dates=['ANO_MES'], index_col='ANO_MES', date_parser=dateparse) \n",
    "\n",
    "# Só precisamos do distrito e da demanda, para esse caso\n",
    "dados_demanda = dados_educ_pop[['DISTRITO', 'DEM_CRECHE']]"
   ]
  },
  {
   "cell_type": "markdown",
   "metadata": {},
   "source": [
    "Vamos começar com um distrito, por enquanto."
   ]
  },
  {
   "cell_type": "code",
   "execution_count": 132,
   "metadata": {},
   "outputs": [],
   "source": [
    "distrito = \"VILA SONIA\"\n",
    "dados_demanda = dados_demanda[dados_demanda['DISTRITO'] == distrito]"
   ]
  },
  {
   "cell_type": "markdown",
   "metadata": {},
   "source": [
    "Usando o modelo de predição ARIMA, sigla para Média móvel integrada autoregressiva, que forneceu o menor erro médio nos testes, vamos tentar descobrir em torno de qual mês a demanda atinge zero, para esse distrito. Vamos prever até no máximo 2030."
   ]
  },
  {
   "cell_type": "code",
   "execution_count": 145,
   "metadata": {},
   "outputs": [
    {
     "name": "stderr",
     "output_type": "stream",
     "text": [
      "/usr/local/lib/python3.6/dist-packages/statsmodels-0.10.0.dev0+868.g14fb572ce-py3.6-linux-x86_64.egg/statsmodels/tsa/base/tsa_model.py:165: ValueWarning: No frequency information was provided, so inferred frequency QS-DEC will be used.\n",
      "  % freq, ValueWarning)\n"
     ]
    },
    {
     "name": "stdout",
     "output_type": "stream",
     "text": [
      "12/2022\n"
     ]
    },
    {
     "name": "stderr",
     "output_type": "stream",
     "text": [
      "/usr/local/lib/python3.6/dist-packages/statsmodels-0.10.0.dev0+868.g14fb572ce-py3.6-linux-x86_64.egg/statsmodels/base/model.py:508: ConvergenceWarning: Maximum Likelihood optimization failed to converge. Check mle_retvals\n",
      "  \"Check mle_retvals\", ConvergenceWarning)\n"
     ]
    }
   ],
   "source": [
    "train = dados_demanda[0:36]\n",
    "test = dados_demanda[36:]\n",
    "\n",
    "fit1 = sm.tsa.statespace.SARIMAX(train.DEM_CRECHE, order=(3, 2, 1), seasonal_order=(0, 1, 1, 4)).fit()\n",
    "demanda_prevista = fit1.predict(start=\"2015-06-01\", end=\"2030-12-01\", dynamic=True)\n",
    "\n",
    "from datetime import datetime\n",
    "\n",
    "for index, element in demanda_prevista.iteritems():\n",
    "    if element <= 0:\n",
    "        data = str(index)\n",
    "        print(data[5:7] + '/' + data[:4])\n",
    "        break"
   ]
  }
 ],
 "metadata": {
  "kernelspec": {
   "display_name": "Python 3",
   "language": "python",
   "name": "python3"
  },
  "language_info": {
   "codemirror_mode": {
    "name": "ipython",
    "version": 3
   },
   "file_extension": ".py",
   "mimetype": "text/x-python",
   "name": "python",
   "nbconvert_exporter": "python",
   "pygments_lexer": "ipython3",
   "version": "3.6.6"
  }
 },
 "nbformat": 4,
 "nbformat_minor": 2
}
