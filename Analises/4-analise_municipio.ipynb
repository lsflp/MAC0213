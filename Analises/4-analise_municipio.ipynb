{
 "cells": [
  {
   "cell_type": "markdown",
   "metadata": {},
   "source": [
    "# 4 - Análise do município\n",
    "\n",
    "Também é interessante entender como a demanda e o atendimento se comportaram no município de São Paulo como um todo. Para isso, vamos importar os dados e processá-los, tratando o município da mesma maneira como os distritos foram."
   ]
  },
  {
   "cell_type": "code",
   "execution_count": 1,
   "metadata": {},
   "outputs": [],
   "source": [
    "import pandas as pd\n",
    "\n",
    "dados_educ_pop = pd.read_csv('dados/dados_educ_pop.csv', sep = ',')"
   ]
  },
  {
   "cell_type": "markdown",
   "metadata": {},
   "source": [
    "Primeiro, devemos unificar todos os distritos e guardar essa informação."
   ]
  },
  {
   "cell_type": "code",
   "execution_count": 2,
   "metadata": {},
   "outputs": [],
   "source": [
    "dados_matricula = dados_educ_pop.groupby(['MES_ANO_REF'])['MAT_CRECHE'].sum().to_frame()\n",
    "dados_demanda = dados_educ_pop.groupby(['MES_ANO_REF'])['DEM_CRECHE'].sum().to_frame()\n",
    "dados_populacao = dados_educ_pop.groupby(['MES_ANO_REF'])['TOTAL'].sum().to_frame()\n",
    "\n",
    "dados_municipio = dados_matricula.merge(dados_demanda, on = ['MES_ANO_REF'])\n",
    "dados_municipio = dados_municipio.merge(dados_populacao, on = ['MES_ANO_REF'])"
   ]
  },
  {
   "cell_type": "markdown",
   "metadata": {},
   "source": [
    "Precisamos que os dados fiquem ordenados por mês e ano, para que o gráfico possa ser feito. Antes disso, é necessário deixar o mês e o ano em um formato numérico."
   ]
  },
  {
   "cell_type": "code",
   "execution_count": 3,
   "metadata": {},
   "outputs": [],
   "source": [
    "meses = {\"mar\" : 3, \"jun\" : 6, \"set\" : 9, \"dez\" : 12}\n",
    "\n",
    "for i in dados_matricula.index:\n",
    "    dados_municipio.at[i, 'MES'] = int(meses.get(i[:3]))\n",
    "    dados_municipio.at[i, 'ANO'] = int(i[4:]) + 2000\n",
    "    \n",
    "dados_municipio = dados_municipio.sort_values(by = ['ANO','MES'], ascending=True)"
   ]
  },
  {
   "cell_type": "markdown",
   "metadata": {},
   "source": [
    "Com isso, é possível gerar o gráfico."
   ]
  },
  {
   "cell_type": "code",
   "execution_count": 4,
   "metadata": {},
   "outputs": [],
   "source": [
    "import matplotlib.pyplot as plt\n",
    "\n",
    "fig = plt.figure(dpi=100, figsize=(9, 5))\n",
    "plt.title('Evolução do atendimento das creches em São Paulo')\n",
    "plt.plot(dados_municipio.index, dados_municipio['MAT_CRECHE'].values, label='Matrículas nas creches do município', color='#33638D')\n",
    "plt.plot(dados_municipio.index, dados_municipio['DEM_CRECHE'].values, label='Demanda no distrito', color='#73D055')\n",
    "plt.plot(dados_municipio.index, dados_municipio['TOTAL'].values, label='Total da população no distrito', color='#440154')\n",
    "plt.legend(loc='upper center', bbox_to_anchor=(0.5, -0.2),  shadow=True, ncol=2)\n",
    "plt.ylabel('Crianças de 0 a 3 anos')\n",
    "plt.xlabel('Data de Referência')\n",
    "p = plt.xticks(rotation=90)\n",
    "plt.savefig('graficos/sao_paulo.png', bbox_inches='tight')\n",
    "plt.close(fig)"
   ]
  },
  {
   "cell_type": "markdown",
   "metadata": {},
   "source": [
    "Podemos também calcular a evolução do atendimento e a evolução da fila."
   ]
  },
  {
   "cell_type": "code",
   "execution_count": 20,
   "metadata": {},
   "outputs": [
    {
     "data": {
      "text/plain": [
       "'A demanda variou em -85502 matrículas, e é, em dezembro de 2017, 34.02% do que era em dezembro de 2006'"
      ]
     },
     "execution_count": 20,
     "metadata": {},
     "output_type": "execute_result"
    }
   ],
   "source": [
    "ev_atend_abs = dados_municipio.at['dez-17', 'MAT_CRECHE'] - dados_municipio.at['dez-06', 'MAT_CRECHE']\n",
    "ev_atend_rel = dados_municipio.at['dez-17', 'MAT_CRECHE'] / dados_municipio.at['dez-06', 'MAT_CRECHE'] * 100\n",
    "ev_dem_abs = dados_municipio.at['dez-17', 'DEM_CRECHE'] - dados_municipio.at['dez-06', 'DEM_CRECHE']\n",
    "ev_dem_rel = dados_municipio.at['dez-17', 'DEM_CRECHE'] / dados_municipio.at['dez-06', 'DEM_CRECHE'] * 100\n",
    "\n",
    "# f'O atendimento variou em {int(ev_atend_abs)} matrículas, e é, em dezembro de 2017, {round(ev_atend_rel, 2)}% do que era em dezembro de 2006'\n",
    "# f'A demanda variou em {int(ev_dem_abs)} matrículas, e é, em dezembro de 2017, {round(ev_dem_rel, 2)}% do que era em dezembro de 2006'"
   ]
  }
 ],
 "metadata": {
  "kernelspec": {
   "display_name": "Python 3",
   "language": "python",
   "name": "python3"
  },
  "language_info": {
   "codemirror_mode": {
    "name": "ipython",
    "version": 3
   },
   "file_extension": ".py",
   "mimetype": "text/x-python",
   "name": "python",
   "nbconvert_exporter": "python",
   "pygments_lexer": "ipython3",
   "version": "3.6.6"
  }
 },
 "nbformat": 4,
 "nbformat_minor": 2
}
