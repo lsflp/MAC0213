{
 "cells": [
  {
   "cell_type": "markdown",
   "metadata": {},
   "source": [
    "# 5 - Agrupamentos\n",
    "\n",
    "Para compreender como os distritos podem ser agrupados, serão gerados gráficos de dispersão."
   ]
  },
  {
   "cell_type": "code",
   "execution_count": 10,
   "metadata": {},
   "outputs": [
    {
     "name": "stderr",
     "output_type": "stream",
     "text": [
      "/home/lsflp/.local/lib/python3.5/site-packages/ipykernel_launcher.py:14: UserWarning: Boolean Series key will be reindexed to match DataFrame index.\n",
      "  \n"
     ]
    }
   ],
   "source": [
    "import pandas as pd\n",
    "import matplotlib.pyplot as plt\n",
    "import imageio\n",
    "from pylab import rcParams\n",
    "from matplotlib.pyplot import figure\n",
    "\n",
    "rcParams['figure.figsize'] = 16, 9\n",
    "rcParams['figure.dpi'] = 100\n",
    "\n",
    "dados_educ_pop = pd.read_csv('dados/dados_educ_pop.csv', sep = ',')\n",
    "\n",
    "def geraGrafico(periodo, mes):\n",
    "    dados = dados_educ_pop[dados_educ_pop['MES_ANO_REF'] == periodo]\n",
    "    dados = dados[dados_educ_pop['MES'] == mes]\n",
    "\n",
    "    dados['MAT_TOTAL'] = dados['MAT_CRECHE']/dados['TOTAL']\n",
    "    dados['DEM_TOTAL'] = dados['DEM_CRECHE']/dados['TOTAL']\n",
    "    plt.ioff()\n",
    "    plt.scatter(dados['MAT_TOTAL'], dados['DEM_TOTAL'], color='b')\n",
    "    plt.title('Matrículas x Demanda - ' + periodo)\n",
    "    plt.ylabel('Demanda relativa à população')\n",
    "    plt.xlabel('Matrículas relativas à população')\n",
    "    plt.ylim(0, 0.6)\n",
    "    plt.xlim(0, 1.1)\n",
    "    plt.savefig('graficos/agrupamento_' + periodo + '.png', bbox_inches='tight')\n",
    "    plt.close()   \n",
    "    \n",
    "def geraGif(periodos, mes):\n",
    "    with imageio.get_writer('gifs/agrupamento_' + mes + '.gif', mode='I', duration=0.6) as writer:\n",
    "        for periodo in periodos:\n",
    "            if (periodo[:3] == mes):\n",
    "                image = imageio.imread('graficos/agrupamento_' + periodo + '.png')\n",
    "                writer.append_data(image)\n",
    "\n",
    "mes = 'dez'\n",
    "periodos = dados_educ_pop.MES_ANO_REF.unique()\n",
    "\n",
    "for periodo in periodos:\n",
    "    if (periodo[:3] == mes):\n",
    "        geraGrafico(periodo, mes)\n",
    "\n",
    "geraGif(periodos, mes)"
   ]
  },
  {
   "cell_type": "code",
   "execution_count": null,
   "metadata": {},
   "outputs": [],
   "source": []
  }
 ],
 "metadata": {
  "kernelspec": {
   "display_name": "Python 3",
   "language": "python",
   "name": "python3"
  },
  "language_info": {
   "codemirror_mode": {
    "name": "ipython",
    "version": 3
   },
   "file_extension": ".py",
   "mimetype": "text/x-python",
   "name": "python",
   "nbconvert_exporter": "python",
   "pygments_lexer": "ipython3",
   "version": "3.5.2"
  }
 },
 "nbformat": 4,
 "nbformat_minor": 2
}
