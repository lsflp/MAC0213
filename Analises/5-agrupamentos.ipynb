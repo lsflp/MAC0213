{
 "cells": [
  {
   "cell_type": "markdown",
   "metadata": {},
   "source": [
    "# 5 - Agrupamentos\n",
    "\n",
    "Para compreender como os distritos podem ser agrupados, serão gerados gráficos de dispersão."
   ]
  },
  {
   "cell_type": "markdown",
   "metadata": {},
   "source": [
    "## Matrículas x Demanda\n",
    "\n",
    "O primeiro agrupamento é como o oferecimento se relaciona com a demanda. Para ficar mais fácil de ver, a análise será a cada ano (com um mês fixo)."
   ]
  },
  {
   "cell_type": "code",
   "execution_count": 27,
   "metadata": {},
   "outputs": [],
   "source": [
    "import pandas as pd\n",
    "import matplotlib.pyplot as plt\n",
    "import imageio\n",
    "from pylab import rcParams\n",
    "from matplotlib.pyplot import figure\n",
    "\n",
    "rcParams['figure.figsize'] = 7, 4\n",
    "rcParams['figure.dpi'] = 100\n",
    "\n",
    "dados_educ_pop = pd.read_csv('dados/dados_educ_pop.csv', sep = ',')\n",
    "\n",
    "def geraGrafico(periodo, mes):\n",
    "    dados = dados_educ_pop[dados_educ_pop['MES_ANO_REF'] == periodo]\n",
    "    dados = dados[dados_educ_pop['MES'] == mes]\n",
    "\n",
    "    dados['MAT_TOTAL'] = dados['MAT_CRECHE']/dados['TOTAL']*100\n",
    "    dados['DEM_TOTAL'] = dados['DEM_CRECHE']/dados['TOTAL']*100\n",
    "    plt.ioff()\n",
    "    plt.scatter(dados['MAT_TOTAL'], dados['DEM_TOTAL'], color='#440154')\n",
    "    plt.title('Matrículas x Demanda - ' + periodo)\n",
    "    plt.ylabel('Demanda relativa à população (%)')\n",
    "    plt.xlabel('Matrículas relativas à população (%)')\n",
    "#     dados = dados[dados_educ_pop['DISTRITO'] == 'PENHA']\n",
    "#     plt.annotate(dados['DISTRITO_F'].values[0],\n",
    "#             xy=(dados['MAT_CRECHE']/dados['TOTAL'], dados['DEM_CRECHE']/dados['TOTAL']),  # theta, radius\n",
    "#             xytext=(0.05, 0.05),    # fraction, fraction\n",
    "#             textcoords='figure fraction',\n",
    "#             arrowprops=dict(facecolor='black', shrink=0.05),\n",
    "#             horizontalalignment='left',\n",
    "#             verticalalignment='bottom',\n",
    "#             )\n",
    "    plt.ylim(0, 60)\n",
    "    plt.xlim(0, 110)\n",
    "    \n",
    "    plt.savefig('graficos/agrupamentos/mat_dem_' + periodo + '.png', bbox_inches='tight')\n",
    "    plt.close()   \n",
    "    \n",
    "def geraGif(periodos, mes):\n",
    "    with imageio.get_writer('gifs/agrupamentos_mat_dem_' + mes + '.gif', mode='I', duration=0.6) as writer:\n",
    "        for periodo in periodos:\n",
    "            if (periodo[:3] == mes):\n",
    "                image = imageio.imread('graficos/agrupamentos/mat_dem_' + periodo + '.png')\n",
    "                writer.append_data(image)"
   ]
  },
  {
   "cell_type": "code",
   "execution_count": 28,
   "metadata": {},
   "outputs": [
    {
     "name": "stderr",
     "output_type": "stream",
     "text": [
      "/home/lsflp/.local/lib/python3.6/site-packages/ipykernel_launcher.py:14: UserWarning: Boolean Series key will be reindexed to match DataFrame index.\n",
      "  \n"
     ]
    }
   ],
   "source": [
    "mes = 'dez'\n",
    "periodos = dados_educ_pop.MES_ANO_REF.unique()\n",
    "\n",
    "for periodo in periodos:\n",
    "    if (periodo[:3] == mes):\n",
    "        geraGrafico(periodo, mes)\n",
    "\n",
    "geraGif(periodos, mes)"
   ]
  },
  {
   "cell_type": "markdown",
   "metadata": {},
   "source": [
    "## Evolução absoluta das matrículas x demanda\n",
    "\n",
    "O segundo agrupamento será relacionado a como se comportaram as taxas de evolução do atendimento e da demanda. Temos dois casos: o primeiro é para as taxas absolutas."
   ]
  },
  {
   "cell_type": "code",
   "execution_count": 10,
   "metadata": {},
   "outputs": [],
   "source": [
    "dados_atendimento = dados_educ_pop[['DISTRITO', 'MAT_CRECHE', 'DEM_CRECHE', 'MES_ANO_REF']]\n",
    "dados_jun_2006 = dados_atendimento[dados_atendimento['MES_ANO_REF'] == 'jun-06']\n",
    "dados_jun_2006.columns = ['DISTRITO', 'MAT_JUN_06', 'DEM_JUN_06', 'MES_ANO_REF']\n",
    "dados_dez_2017 = dados_atendimento[dados_atendimento['MES_ANO_REF'] == 'dez-17']\n",
    "dados_dez_2017.columns = ['DISTRITO', 'MAT_DEZ_17', 'DEM_DEZ_17', 'MES_ANO_REF']\n",
    "\n",
    "dados_atendimento = dados_jun_2006.merge(dados_dez_2017, on = ['DISTRITO'])\n",
    "dados_atendimento = dados_atendimento[['DISTRITO', 'MAT_JUN_06', 'MAT_DEZ_17', 'DEM_JUN_06', 'DEM_DEZ_17']]\n",
    "\n",
    "dados_atendimento['EV_MAT_NUM'] = dados_atendimento['MAT_DEZ_17'] - dados_atendimento['MAT_JUN_06']\n",
    "dados_atendimento['EV_MAT_PC'] = dados_atendimento['MAT_DEZ_17'] / dados_atendimento['MAT_JUN_06']\n",
    "dados_atendimento['EV_DEM_NUM'] = dados_atendimento['DEM_DEZ_17'] - dados_atendimento['DEM_JUN_06']\n",
    "dados_atendimento['EV_DEM_PC'] = dados_atendimento['DEM_DEZ_17'] / dados_atendimento['DEM_JUN_06']\n",
    "\n",
    "for distrito in dados_atendimento['DISTRITO'].unique():\n",
    "    plt.ioff()\n",
    "    plt.scatter(dados_atendimento['EV_MAT_NUM'], dados_atendimento['EV_DEM_NUM'], color='#440154')\n",
    "    dados_distrito = dados_atendimento[dados_atendimento['DISTRITO'] == distrito]\n",
    "    plt.annotate(distrito,\n",
    "                xy=(dados_distrito['EV_MAT_NUM'], dados_distrito['EV_DEM_NUM']),  # theta, radius\n",
    "                xytext=(0.05, 0.05),    # fraction, fraction\n",
    "                textcoords='figure fraction',\n",
    "                arrowprops=dict(facecolor='black', shrink=0.01),\n",
    "                horizontalalignment='left',\n",
    "                verticalalignment='bottom',\n",
    "                )\n",
    "    plt.xlabel('Evolução absoluta das matrículas')\n",
    "    plt.ylabel('Evolução absoluta da demanda')\n",
    "    plt.savefig('graficos/agrupamentos/evolucao_abs_' + distrito + '.png', bbox_inches='tight')\n",
    "    plt.close()"
   ]
  },
  {
   "cell_type": "markdown",
   "metadata": {},
   "source": [
    "## Evolução relativa das matrículas x demanda\n",
    "\n",
    "O segundo caso é das taxas relativas."
   ]
  },
  {
   "cell_type": "code",
   "execution_count": 11,
   "metadata": {},
   "outputs": [],
   "source": [
    "for distrito in dados_atendimento['DISTRITO'].unique():\n",
    "    plt.ioff()\n",
    "    plt.scatter(dados_atendimento['EV_MAT_PC'], dados_atendimento['EV_DEM_PC'], color='#440154')\n",
    "    dados_distrito = dados_atendimento[dados_atendimento['DISTRITO'] == distrito]\n",
    "    plt.annotate(distrito,\n",
    "                xy=(dados_distrito['EV_MAT_PC'], dados_distrito['EV_DEM_PC']),  # theta, radius\n",
    "                xytext=(0.05, 0.05),    # fraction, fraction\n",
    "                textcoords='figure fraction',\n",
    "                arrowprops=dict(facecolor='black', shrink=0.01),\n",
    "                horizontalalignment='left',\n",
    "                verticalalignment='bottom')\n",
    "    plt.xlabel('Evolução relativa das matrículas, em relação à população')\n",
    "    plt.ylabel('Evolução relativa da demanda, em relação à população')\n",
    "    plt.xlim(0, 15)\n",
    "    plt.ylim(0, 6.5)\n",
    "    plt.savefig('graficos/agrupamentos/evolucao_rel_' + distrito + '.png', bbox_inches='tight')\n",
    "    plt.close()"
   ]
  }
 ],
 "metadata": {
  "kernelspec": {
   "display_name": "Python 3",
   "language": "python",
   "name": "python3"
  },
  "language_info": {
   "codemirror_mode": {
    "name": "ipython",
    "version": 3
   },
   "file_extension": ".py",
   "mimetype": "text/x-python",
   "name": "python",
   "nbconvert_exporter": "python",
   "pygments_lexer": "ipython3",
   "version": "3.6.7"
  }
 },
 "nbformat": 4,
 "nbformat_minor": 2
}
