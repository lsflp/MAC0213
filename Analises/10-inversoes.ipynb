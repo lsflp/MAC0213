{
 "cells": [
  {
   "cell_type": "markdown",
   "metadata": {},
   "source": [
    "## 10 - Inversões na tendência.\n",
    "\n",
    "Vamos analisar neste arquivo quando foi que o número de matrículas tornou-se maior que o tamanho da fila. Para simplificar, vamos pegar a última vez em que isso ocorreu."
   ]
  },
  {
   "cell_type": "code",
   "execution_count": 25,
   "metadata": {},
   "outputs": [],
   "source": [
    "import pandas as pd\n",
    "\n",
    "dados_educ_pop = pd.read_csv('dados/dados_educ_pop.csv', sep = ',')\n",
    "distritos = pd.read_csv('dados/distritos.csv', sep = ',')"
   ]
  },
  {
   "cell_type": "markdown",
   "metadata": {},
   "source": [
    "Primeiro, faremos uma função que descobre quando aconteceu a última inversão nos números."
   ]
  },
  {
   "cell_type": "code",
   "execution_count": 28,
   "metadata": {},
   "outputs": [],
   "source": [
    "def descobreInversao(distrito):\n",
    "    dados_distrito = dados_educ_pop[dados_educ_pop['DISTRITO'] == distrito]\n",
    "    periodo = '2030-12'\n",
    "    for i in reversed(dados_distrito.index):\n",
    "        matriculas = dados_distrito.at[i, 'MAT_CRECHE']\n",
    "        demanda = dados_distrito.at[i, 'DEM_CRECHE']\n",
    "        if demanda > matriculas:\n",
    "            break\n",
    "        periodo = dados_distrito.at[i, 'ANO_MES']\n",
    "    return periodo"
   ]
  },
  {
   "cell_type": "markdown",
   "metadata": {},
   "source": [
    "Agora, vamos descobrir quando cada distrito conseguiu inverter seus números e em que posição, comparado com os outros, eles ficam."
   ]
  },
  {
   "cell_type": "code",
   "execution_count": 34,
   "metadata": {},
   "outputs": [],
   "source": [
    "inversoes = pd.concat([pd.DataFrame([[distrito, descobreInversao(distrito)]], columns = ['NOME', 'PERIODO']) for distrito in dados_educ_pop['DISTRITO'].unique()], ignore_index=True) \n",
    "inversoes = inversoes.sort_values(by='PERIODO', ascending=True).reset_index()\n",
    "\n",
    "for distrito in inversoes['NOME'].unique():\n",
    "    dados_distrito = dados_educ_pop[dados_educ_pop['DISTRITO'] == distrito]\n",
    "    distrito_f = dados_distrito.at[dados_distrito.index[0], 'DISTRITO_F']\n",
    "    zona = distritos[distritos['DISTRITO_F'] == distrito_f]['ZONA'].values[0]\n",
    "    inversao = inversoes[inversoes['NOME'] == distrito]\n",
    "    periodo = inversao[\"PERIODO\"].values[0]\n",
    "    periodo = periodo[5:] + '/' + periodo[:4]\n",
    "    posicao = str(inversao.index.values[0] + 1)\n",
    "    print(\"\\\\textbf{\" + str(posicao) + \"} & \" + distrito_f + \" & \" + zona +  \" & \" + periodo + \"\\\\\\\\ \\hline\")"
   ]
  }
 ],
 "metadata": {
  "kernelspec": {
   "display_name": "Python 3",
   "language": "python",
   "name": "python3"
  },
  "language_info": {
   "codemirror_mode": {
    "name": "ipython",
    "version": 3
   },
   "file_extension": ".py",
   "mimetype": "text/x-python",
   "name": "python",
   "nbconvert_exporter": "python",
   "pygments_lexer": "ipython3",
   "version": "3.6.7"
  }
 },
 "nbformat": 4,
 "nbformat_minor": 2
}
