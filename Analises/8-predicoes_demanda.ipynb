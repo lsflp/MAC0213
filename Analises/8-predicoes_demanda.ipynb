{
 "cells": [
  {
   "cell_type": "markdown",
   "metadata": {},
   "source": [
    "# 8 - Predições da demanda\n",
    "\n",
    "\n",
    "Para entender como o atendimento pode se comportar num futuro próximo, vamos usar modelos preditivos. Assim, vamos tentar estimar algumas metas da Secretaria Municipal de Educação. Vamos começar com a demanda. A meta é zerá-la. Portanto, vamos calcular quando isso acontece:"
   ]
  },
  {
   "cell_type": "code",
   "execution_count": 30,
   "metadata": {},
   "outputs": [],
   "source": [
    "import pandas as pd\n",
    "import numpy as np\n",
    "import matplotlib.pylab as plt\n",
    "\n",
    "from matplotlib.pylab import rcParams\n",
    "rcParams['figure.figsize'] = 15, 6\n",
    "\n",
    "dateparse = lambda dates: pd.datetime.strptime(dates, '%Y-%m')\n",
    "dados_educ_pop = pd.read_csv('dados/dados_educ_pop.csv', sep = ',', parse_dates=['ANO_MES'], index_col='ANO_MES', date_parser=dateparse) \n",
    "\n",
    "# Só precisamos do distrito e da demanda, para esse caso\n",
    "dados_demanda = dados_educ_pop[['DISTRITO', 'DEM_CRECHE']]"
   ]
  },
  {
   "cell_type": "markdown",
   "metadata": {},
   "source": [
    "Usando o modelo de predição ARIMA, sigla para Média móvel integrada autoregressiva, que forneceu o menor erro médio nos testes, vamos tentar descobrir em torno de qual mês a demanda atinge zero, para esse distrito. Vamos prever até no máximo 2030."
   ]
  },
  {
   "cell_type": "code",
   "execution_count": 2,
   "metadata": {},
   "outputs": [],
   "source": [
    "import statsmodels.api as sm\n",
    "\n",
    "for distrito in dados_demanda.DISTRITO.unique():\n",
    "    dados_demanda = dados_educ_pop[dados_educ_pop['DISTRITO'] == distrito]\n",
    "    zero = False\n",
    "    \n",
    "    # Gerando o modelo\n",
    "    fit1 = sm.tsa.statespace.SARIMAX(dados_demanda.DEM_CRECHE, order=(3, 2, 1), seasonal_order=(0, 1, 1, 4)).fit()\n",
    "    demanda_prevista = fit1.predict(start=\"2018-03-01\", end=\"2030-12-01\", dynamic=True)\n",
    "    \n",
    "    # Verificando se a meta foi atingida\n",
    "    for index, element in demanda_prevista.iteritems():\n",
    "        if element <= 0:\n",
    "            zero = True\n",
    "            data = str(index)\n",
    "            print(distrito + \" - \" + data[5:7] + '/' + data[:4])\n",
    "            break\n",
    "    if not zero:\n",
    "        print(\"O distrito \" + distrito + \" só vai ter a fila zerada a partir de 2031.\")\n",
    "    \n",
    "    # Gerando o gráfico\n",
    "    plt.ioff()\n",
    "    fig = plt.figure(dpi=200, figsize=(10, 6))\n",
    "    plt.title('Evolução da fila das creches em ' + distrito)\n",
    "    plt.plot(dados_demanda['DEM_CRECHE'], label='Demanda registrada nas creches do distrito', color='c', linewidth=5.0)\n",
    "    plt.plot(demanda_prevista, label='Demanda prevista nas creches do distrito', color='midnightblue', linewidth=5.0)\n",
    "    plt.legend(loc='upper center', bbox_to_anchor=(0.5, -0.2),  shadow=True, ncol=2)\n",
    "    plt.ylabel('Crianças de 0 a 3 anos')\n",
    "    plt.xlabel('Data de Referência')\n",
    "    plt.xticks(rotation=90)\n",
    "    plt.savefig('graficos/previsao_demanda_' + distrito + '.png', bbox_inches='tight')\n",
    "    plt.close(fig)"
   ]
  }
 ],
 "metadata": {
  "kernelspec": {
   "display_name": "Python 3",
   "language": "python",
   "name": "python3"
  },
  "language_info": {
   "codemirror_mode": {
    "name": "ipython",
    "version": 3
   },
   "file_extension": ".py",
   "mimetype": "text/x-python",
   "name": "python",
   "nbconvert_exporter": "python",
   "pygments_lexer": "ipython3",
   "version": "3.6.6"
  }
 },
 "nbformat": 4,
 "nbformat_minor": 2
}
