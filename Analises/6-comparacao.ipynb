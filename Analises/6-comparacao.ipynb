{
 "cells": [
  {
   "cell_type": "markdown",
   "metadata": {},
   "source": [
    "# 6 - Comparação\n",
    "\n",
    "Nessa análise, vamos comparar os distritos em relação ao município. Serão comparados o quanto cada distrito compõe o atendimento e a demanda da cidade, e a posição em relação aos outros distritos."
   ]
  },
  {
   "cell_type": "code",
   "execution_count": 1,
   "metadata": {},
   "outputs": [],
   "source": [
    "import pandas as pd\n",
    "import matplotlib.pyplot as plt\n",
    "import imageio\n",
    "from pylab import rcParams\n",
    "from matplotlib.pyplot import figure\n",
    "\n",
    "rcParams['figure.figsize'] = 16, 9\n",
    "rcParams['figure.dpi'] = 100\n",
    "\n",
    "dados_educ_pop = pd.read_csv('dados/dados_educ_pop.csv', sep = ',')\n",
    "\n",
    "dados_matricula = dados_educ_pop.groupby(['MES_ANO_REF'])['MAT_CRECHE'].sum().to_frame()\n",
    "dados_demanda = dados_educ_pop.groupby(['MES_ANO_REF'])['DEM_CRECHE'].sum().to_frame()\n",
    "dados_populacao = dados_educ_pop.groupby(['MES_ANO_REF'])['TOTAL'].sum().to_frame()\n",
    "\n",
    "dados_municipio = dados_matricula.merge(dados_demanda, on = ['MES_ANO_REF'])\n",
    "dados_municipio = dados_municipio.merge(dados_populacao, on = ['MES_ANO_REF'])\n",
    "periodos = dados_educ_pop.MES_ANO_REF.unique()\n",
    "\n",
    "for distrito in dados_educ_pop.DISTRITO.unique():\n",
    "    posicao_mat, posicao_dem, matriculas, demanda = [], [], [], []\n",
    "    for periodo in periodos:\n",
    "        dados = dados_educ_pop[dados_educ_pop['MES_ANO_REF'] == periodo].sort_values(by='MAT_CRECHE', ascending=False).reset_index()\n",
    "        posicao_mat.append(dados[dados['DISTRITO'] == distrito].index[0] + 1)\n",
    "        matriculas.append((dados[dados['DISTRITO'] == distrito]['MAT_CRECHE'] / dados_municipio.at[periodo, 'MAT_CRECHE']).values[0] * 100)\n",
    "        dados = dados_educ_pop[dados_educ_pop['MES_ANO_REF'] == periodo].sort_values(by='DEM_CRECHE', ascending=False).reset_index()\n",
    "        posicao_dem.append(dados[dados['DISTRITO'] == distrito].index[0] + 1)\n",
    "        demanda.append((dados[dados['DISTRITO'] == distrito]['DEM_CRECHE'] / dados_municipio.at[periodo, 'DEM_CRECHE']).values[0] * 100)\n",
    "    \n",
    "    plt.ioff()\n",
    "    fig = plt.figure(dpi=200, figsize=(10, 6))\n",
    "    plt.title('Comparação do distrito '+ distrito +' com o município')\n",
    "    plt.plot(periodos, matriculas, label='Matrículas em relação ao município', color='midnightblue', linewidth=4.0)\n",
    "    plt.plot(periodos, demanda, label='Demanda em relação ao município', color='steelblue', linewidth=4.0)\n",
    "    plt.legend(loc='upper center', bbox_to_anchor=(0.5, -0.2),  shadow=True, ncol=2)\n",
    "    plt.ylabel('Proporção que o distrito representa (%)')\n",
    "    plt.xlabel('Data de Referência')\n",
    "    fig = plt.xticks(rotation=90)\n",
    "    plt.savefig('graficos/participacao_evolucao_' + distrito + '.png', bbox_inches='tight')\n",
    "    plt.close()\n",
    "    \n",
    "    plt.ioff()\n",
    "    fig = plt.figure(dpi=100, figsize=(9, 5))\n",
    "    plt.title('Comparação do distrito em relação aos outros distritos (ranking)')\n",
    "    plt.plot(periodos, posicao_mat, label='Posição das matrículas no ranking do município', color='#33638D')\n",
    "    plt.plot(periodos, posicao_dem, label='Posição da demanda no ranking do município', color='#73D055')\n",
    "    plt.legend(loc='upper center', bbox_to_anchor=(0.5, -0.2),  shadow=True, ncol=2)\n",
    "    plt.ylabel('Posição do distrito no ranking')\n",
    "    plt.xlabel('Data de Referência')\n",
    "    plt.gca().invert_yaxis()\n",
    "    fig = plt.xticks(rotation=90)\n",
    "    plt.savefig('graficos/posicao_evolucao_' + distrito + '.png', bbox_inches='tight')\n",
    "    plt.close()"
   ]
  }
 ],
 "metadata": {
  "kernelspec": {
   "display_name": "Python 3",
   "language": "python",
   "name": "python3"
  },
  "language_info": {
   "codemirror_mode": {
    "name": "ipython",
    "version": 3
   },
   "file_extension": ".py",
   "mimetype": "text/x-python",
   "name": "python",
   "nbconvert_exporter": "python",
   "pygments_lexer": "ipython3",
   "version": "3.6.6"
  }
 },
 "nbformat": 4,
 "nbformat_minor": 2
}
