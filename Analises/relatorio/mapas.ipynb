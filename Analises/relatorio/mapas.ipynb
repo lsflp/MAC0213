{
 "cells": [
  {
   "cell_type": "markdown",
   "metadata": {},
   "source": [
    "Neste notebook, serão gerados mapas que mostram a localização de cada distrito."
   ]
  },
  {
   "cell_type": "code",
   "execution_count": 9,
   "metadata": {},
   "outputs": [],
   "source": [
    "import pandas as pd\n",
    "import shapefile as shp\n",
    "import matplotlib.pyplot as plt\n",
    "from shapely.geometry import Polygon\n",
    "from descartes.patch import PolygonPatch\n",
    "\n",
    "dados_educ_pop = pd.read_csv('../dados/dados_educ_pop.csv', sep = ',')\n",
    "\n",
    "# Gerando os mapas do distrito.\n",
    "for sigla in dados_educ_pop['SIGLA_DIST'].unique():\n",
    "    sf = shp.Reader(\"../dados/LAYER_DISTRITO/DEINFO_DISTRITO.shp\")\n",
    "\n",
    "    plt.ioff()\n",
    "    fig = plt.figure(dpi=100, figsize=(5, 25))\n",
    "    ax = plt.axes()\n",
    "    ax.set_aspect('equal')\n",
    "\n",
    "    for shapeRec in sf.iterShapeRecords():\n",
    "        shape = shapeRec.shape\n",
    "        rec = shapeRec.record\n",
    "\n",
    "        polygon = Polygon(shape.points)\n",
    "        if rec[4] == sigla:\n",
    "            patch = PolygonPatch(polygon, facecolor='c', edgecolor=[0,0,0], alpha=1.0, zorder=2)\n",
    "        else:\n",
    "            patch = PolygonPatch(polygon, facecolor='w', edgecolor=[0,0,0], alpha=1.0, zorder=2)\n",
    "        ax.add_patch(patch)\n",
    "        \n",
    "    ax.set_title('Localização do distrito')\n",
    "\n",
    "    plt.ylim(7340000,7420000)\n",
    "    plt.xlim(310000,365000)\n",
    "    frame1 = plt.gca()\n",
    "    frame1.axes.get_xaxis().set_visible(False)\n",
    "    frame1.axes.get_yaxis().set_visible(False)\n",
    "    plt.savefig('../mapas/mapas/distrito_' + sigla + '.png', bbox_inches='tight')\n",
    "    plt.close(fig)"
   ]
  }
 ],
 "metadata": {
  "kernelspec": {
   "display_name": "Python 3",
   "language": "python",
   "name": "python3"
  },
  "language_info": {
   "codemirror_mode": {
    "name": "ipython",
    "version": 3
   },
   "file_extension": ".py",
   "mimetype": "text/x-python",
   "name": "python",
   "nbconvert_exporter": "python",
   "pygments_lexer": "ipython3",
   "version": "3.6.6"
  }
 },
 "nbformat": 4,
 "nbformat_minor": 2
}
