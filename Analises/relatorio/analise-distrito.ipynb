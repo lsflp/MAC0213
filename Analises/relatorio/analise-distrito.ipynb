{
 "cells": [
  {
   "cell_type": "markdown",
   "metadata": {},
   "source": [
    "Notebook feito para a geração automática das páginas da análise dos distritos."
   ]
  },
  {
   "cell_type": "code",
   "execution_count": 4,
   "metadata": {},
   "outputs": [],
   "source": [
    "import pandas as pd\n",
    "\n",
    "dados_educ_pop = pd.read_csv('../dados/dados_educ_pop.csv', sep = ',')"
   ]
  },
  {
   "cell_type": "markdown",
   "metadata": {},
   "source": [
    "Agora, geramos as seções:"
   ]
  },
  {
   "cell_type": "code",
   "execution_count": 6,
   "metadata": {
    "scrolled": true
   },
   "outputs": [],
   "source": [
    "matMunicipio2006, demMunicipioJun2006, demMunicipioDez2006, totMunicipio2006 = 61729, 84408, 129594, 627552 \n",
    "matMunicipio2017, demMunicipio2017, totMunicipio2017 = 296260, 44092, 644096\n",
    "\n",
    "dados_matricula_2006 = dados_educ_pop[dados_educ_pop['MES_ANO_REF'] == 'jun-06'].sort_values(by='MAT_CRECHE', ascending=False).reset_index()\n",
    "dados_matricula_2017 = dados_educ_pop[dados_educ_pop['MES_ANO_REF'] == 'dez-17'].sort_values(by='MAT_CRECHE', ascending=False).reset_index()\n",
    "dados_demanda_2006 = dados_educ_pop[dados_educ_pop['MES_ANO_REF'] == 'jun-06'].sort_values(by='DEM_CRECHE', ascending=False).reset_index()\n",
    "dados_demanda_2017 = dados_educ_pop[dados_educ_pop['MES_ANO_REF'] == 'dez-17'].sort_values(by='DEM_CRECHE', ascending=False).reset_index()\n",
    "\n",
    "for distrito in dados_educ_pop['DISTRITO'].unique():\n",
    "    dados_distrito = dados_educ_pop[dados_educ_pop['DISTRITO'] == distrito]\n",
    "    distrito_f = dados_distrito.at[dados_distrito.index[0], 'DISTRITO_F']\n",
    "    sigla = dados_distrito.at[dados_distrito.index[0], 'SIGLA_DIST']\n",
    "    print('\\section{' + distrito_f + '}')\n",
    "    print('\\\\begin{figure}[H]')\n",
    "    print('\\centering')\n",
    "    print('\\includegraphics[width=0.66\\linewidth]{../Analises/graficos/tempo/tempo_' + distrito.replace(\" \", \"_\") + '}')\n",
    "    print('\\includegraphics[width=0.33\\linewidth]{../Analises/mapas/mapas/distrito_' + sigla + '}')\n",
    "    print('\\caption{Evolução das matrículas, da demanda, e da população de 0 a 3 anos no distrito ' + distrito_f + ' e a sua localização no município, respectivamente.}')\n",
    "    print('\\end{figure}')\n",
    "    print('\\\\begin{table}[H]')\n",
    "    print('\\\\begin{tabular}{|l|l|l|l|}')\n",
    "    print('\\hline')\n",
    "    dadosJun2006 = dados_distrito[dados_distrito['MES_ANO_REF'] == 'jun-06']\n",
    "    dadosDez2017 = dados_distrito[dados_distrito['MES_ANO_REF'] == 'dez-17']\n",
    "    matJun2006, demJun2006, totJun2006 = dadosJun2006['MAT_CRECHE'].values[0], dadosJun2006['DEM_CRECHE'].values[0], dadosJun2006['TOTAL'].values[0]\n",
    "    matDez2017, demDez2017, totDez2017 = dadosDez2017['MAT_CRECHE'].values[0], dadosDez2017['DEM_CRECHE'].values[0], dadosDez2017['TOTAL'].values[0]\n",
    "    propMatJun2006, propDemJun2006, propSpMatJun2006, propSpDemJun2006, propSpTotJun2006 = matJun2006/totJun2006*100, demJun2006/totJun2006*100, matJun2006/matMunicipio2006*100, demJun2006/demMunicipioJun2006*100, totJun2006/totMunicipio2006*100\n",
    "    propMatDez2017, propDemDez2017, propSpMatDez2017, propSpDemDez2017, propSpTotDez2017 = matDez2017/totDez2017*100, demDez2017/totDez2017*100, matDez2017/matMunicipio2017*100, demDez2017/demMunicipio2017*100, totDez2017/totMunicipio2017*100\n",
    "    print('\\\\textbf{}                                      & \\\\textbf{junho de 2006}       & \\\\textbf{dezembro de 2017}    & \\\\textbf{Variação} \\\\\\\\ \\hline')\n",
    "    print('\\\\textbf{Número de matrículas}                  & ' + str(int(matJun2006)) + ' & ' + str(int(matDez2017)) + ' & ' + str(round((matDez2017 - matJun2006)/matJun2006*100, 2)) + '\\% \\\\\\\\ \\hline')\n",
    "    print('\\\\textbf{Crianças na fila}                      & ' + str(int(demJun2006)) + ' & ' + str(int(demDez2017)) + ' & ' + str(round((demDez2017 - demJun2006)/demJun2006*100, 2)) + '\\% \\\\\\\\ \\hline')\n",
    "    print('\\\\textbf{População de 0 a 3 anos estimada}      & ' + str(int(totJun2006)) + ' & ' + str(int(totDez2017)) + ' & ' + str(round((totDez2017 - totJun2006)/totJun2006*100, 2)) + '\\% \\\\\\\\ \\hline')\n",
    "    print('\\\\textbf{Matrículas relativas à população}      & ' + str(round(propMatJun2006, 2))  +'\\% & ' +  str(round(propMatDez2017, 2)) +'\\% & ' + str(round((propMatDez2017 - propMatJun2006)/propMatJun2006*100, 2)) + '\\% \\\\\\\\ \\hline')\n",
    "    print('\\\\textbf{Fila relativa à população}             & ' + str(round(propDemJun2006, 2))  +'\\% & ' +  str(round(propDemDez2017, 2)) +'\\% & ' + str(round((propDemDez2017 - propDemJun2006)/propDemJun2006*100, 2)) + '\\% \\\\\\\\ \\hline')\n",
    "    print('\\\\textbf{Proporção das matrículas no município} & ' + str(round(propSpMatJun2006, 2)) +'\\% & ' + str(round(propSpMatDez2017, 2)) +'\\% & ' + str(round((propSpMatDez2017 - propSpMatJun2006)/propSpMatJun2006*100, 2)) + '\\% \\\\\\\\ \\hline')\n",
    "    print('\\\\textbf{Proporção da demanda no município}     & ' + str(round(propSpDemJun2006, 2)) +'\\% & ' + str(round(propSpDemDez2017, 2)) +'\\% & ' + str(round((propSpDemDez2017 - propSpDemJun2006)/propSpDemJun2006*100, 2)) + '\\% \\\\\\\\ \\hline')\n",
    "    print('\\\\textbf{Proporção da população de 0 a 3 anos}  & ' + str(round(propSpTotJun2006, 2)) +'\\% & ' + str(round(propSpTotDez2017, 2)) +'\\% & ' + str(round((propSpTotDez2017 - propSpTotJun2006)/propSpTotJun2006*100, 2)) + '\\% \\\\\\\\ \\hline')\n",
    "    indiceMat2006, indiceDem2006 = dados_matricula_2006[dados_matricula_2006['DISTRITO'] == distrito].index.values[0] + 1, dados_demanda_2006[dados_demanda_2006['DISTRITO'] == distrito].index.values[0] + 1\n",
    "    indiceMat2017, indiceDem2017 = dados_matricula_2017[dados_matricula_2017['DISTRITO'] == distrito].index.values[0] + 1, dados_demanda_2017[dados_demanda_2017['DISTRITO'] == distrito].index.values[0] + 1\n",
    "    print('\\\\textbf{Posição no \\\\textit{ranking} das matrículas}     & ' + str(indiceMat2006) + ' & ' + str(indiceMat2017) + ' & ' + str(indiceMat2006-indiceMat2017) + ' \\\\\\\\ \\hline')\n",
    "    print('\\\\textbf{Posição no \\\\textit{ranking} da demanda}         & ' + str(indiceDem2006) + ' & ' + str(indiceDem2017) + ' & ' + str(indiceDem2006-indiceDem2017) + ' \\\\\\\\ \\hline')\n",
    "    print('\\end{tabular}')\n",
    "    print('\\caption{Comparação entre o primeiro e o último período da amostra}')\n",
    "    print('\\end{table}')\n",
    "    print('\\\\begin{table}[H]')\n",
    "    print('\\\\begin{tabular}{|l|l|l|l|}')\n",
    "    print('\\hline')\n",
    "    dadosDez2006 = dados_distrito[dados_distrito['MES_ANO_REF'] == 'dez-06']\n",
    "    matDez2006, demDez2006, totDez2006 = dadosDez2006['MAT_CRECHE'].values[0], dadosDez2006['DEM_CRECHE'].values[0], dadosDez2006['TOTAL'].values[0]\n",
    "    propDemDez2006 = round(matDez2006/totDez2006*100, 2)\n",
    "    print('\\\\textbf{}                                 & \\\\textbf{dezembro de 2006} & \\\\textbf{dezembro de 2017} & \\\\textbf{Variação} \\\\\\\\ \\hline')\n",
    "    print('\\\\textbf{Crianças na fila}                      & ' + str(int(demDez2006)) + ' & ' + str(int(demDez2017)) + ' & ' + str(round((demDez2017 - demDez2006)/demDez2006*100, 2)) + '\\% \\\\\\\\ \\hline')\n",
    "    print('\\\\textbf{População de 0 a 3 anos estimada}      & ' + str(int(totDez2006)) + ' & ' + str(int(totDez2017)) + ' & ' + str(round((totDez2017 - totDez2006)/totDez2006*100, 2)) + '\\% \\\\\\\\ \\hline')\n",
    "    print('\\\\textbf{Fila relativa à população}             & ' + str(propDemDez2006)  +'\\% & ' + str(round(propDemDez2017, 2)) +'\\% & ' + str(round((propDemDez2017 - propDemDez2006)/propDemDez2006*100, 2)) + '\\% \\\\\\\\ \\hline')\n",
    "    print('\\end{tabular}')\n",
    "    print('\\caption{Comparação da demanda no mês de dezembro, em 2006 e 2017.}')\n",
    "    print('\\end{table}')"
   ]
  }
 ],
 "metadata": {
  "kernelspec": {
   "display_name": "Python 3",
   "language": "python",
   "name": "python3"
  },
  "language_info": {
   "codemirror_mode": {
    "name": "ipython",
    "version": 3
   },
   "file_extension": ".py",
   "mimetype": "text/x-python",
   "name": "python",
   "nbconvert_exporter": "python",
   "pygments_lexer": "ipython3",
   "version": "3.6.6"
  }
 },
 "nbformat": 4,
 "nbformat_minor": 2
}
