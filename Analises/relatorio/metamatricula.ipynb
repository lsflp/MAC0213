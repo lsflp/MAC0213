{
 "cells": [
  {
   "cell_type": "markdown",
   "metadata": {},
   "source": [
    "Neste notebook, vamos ver se há distritos que já atingiram a meta de matrículas."
   ]
  },
  {
   "cell_type": "code",
   "execution_count": 5,
   "metadata": {},
   "outputs": [
    {
     "name": "stdout",
     "output_type": "stream",
     "text": [
      "CIDADE TIRADENTES set-15\n",
      "CIDADE TIRADENTES dez-15\n",
      "CIDADE TIRADENTES mar-16\n",
      "CIDADE TIRADENTES jun-16\n",
      "CIDADE TIRADENTES set-16\n",
      "CIDADE TIRADENTES dez-16\n",
      "CIDADE TIRADENTES mar-17\n",
      "CIDADE TIRADENTES jun-17\n",
      "CIDADE TIRADENTES set-17\n",
      "CIDADE TIRADENTES dez-17\n",
      "GUAIANASES mar-17\n",
      "GUAIANASES jun-17\n",
      "GUAIANASES set-17\n",
      "GUAIANASES dez-17\n",
      "JAGUARA mar-17\n",
      "JAGUARA jun-17\n",
      "JAGUARA set-17\n",
      "JAGUARA dez-17\n",
      "LAJEADO dez-12\n",
      "LAJEADO mar-16\n",
      "LAJEADO jun-16\n",
      "LAJEADO set-16\n",
      "LAJEADO dez-16\n",
      "LAJEADO mar-17\n",
      "LAJEADO jun-17\n",
      "LAJEADO set-17\n",
      "LAJEADO dez-17\n",
      "MARSILAC jun-15\n",
      "MARSILAC set-15\n",
      "MARSILAC dez-15\n",
      "MARSILAC mar-16\n",
      "MARSILAC jun-16\n",
      "MARSILAC set-16\n",
      "MARSILAC dez-16\n",
      "MARSILAC mar-17\n",
      "MARSILAC jun-17\n",
      "MARSILAC set-17\n",
      "MARSILAC dez-17\n"
     ]
    }
   ],
   "source": [
    "import pandas as pd\n",
    "\n",
    "dados_educ_pop = pd.read_csv('../dados/dados_educ_pop.csv', sep = ',')\n",
    "\n",
    "for distrito in dados_educ_pop['DISTRITO'].unique():\n",
    "    dados = dados_educ_pop[dados_educ_pop['DISTRITO'] == distrito]\n",
    "    for periodo in dados['MES_ANO_REF'].unique():\n",
    "        dadosperiodo = dados[dados['MES_ANO_REF'] == periodo]\n",
    "        if (dadosperiodo.at[dadosperiodo.index[0], 'MAT_CRECHE']/dadosperiodo.at[dadosperiodo.index[0], 'TOTAL'] > 0.75):\n",
    "            print(distrito, periodo)"
   ]
  },
  {
   "cell_type": "code",
   "execution_count": null,
   "metadata": {},
   "outputs": [],
   "source": []
  }
 ],
 "metadata": {
  "kernelspec": {
   "display_name": "Python 3",
   "language": "python",
   "name": "python3"
  },
  "language_info": {
   "codemirror_mode": {
    "name": "ipython",
    "version": 3
   },
   "file_extension": ".py",
   "mimetype": "text/x-python",
   "name": "python",
   "nbconvert_exporter": "python",
   "pygments_lexer": "ipython3",
   "version": "3.6.7"
  }
 },
 "nbformat": 4,
 "nbformat_minor": 2
}
