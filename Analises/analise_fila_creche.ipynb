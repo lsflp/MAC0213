{
 "cells": [
  {
   "cell_type": "markdown",
   "metadata": {},
   "source": [
    "# Análise de dados da fila da creche no município de São Paulo"
   ]
  },
  {
   "cell_type": "markdown",
   "metadata": {},
   "source": [
    "Obtendo os dados das matrículas na rede municipal de educação, obtidos [aqui](http://dados.prefeitura.sp.gov.br/dataset/demanda-por-vagas-educacao-infantil-e-eja):"
   ]
  },
  {
   "cell_type": "code",
   "execution_count": 1,
   "metadata": {},
   "outputs": [],
   "source": [
    "import pandas as pd\n",
    "\n",
    "dados_creche = pd.read_csv('dados/evolucaodemanda.csv', sep = ';')"
   ]
  },
  {
   "cell_type": "markdown",
   "metadata": {},
   "source": [
    "Temos que filtrar apenas as colunas que necessárias. Além disso, é preciso limpar os dados, pois algumas linhas possuem os números com um ponto (.) para indicar o milhar. Por conveniência, o ano de referência será deixado em uma coluna a parte. "
   ]
  },
  {
   "cell_type": "code",
   "execution_count": 2,
   "metadata": {},
   "outputs": [],
   "source": [
    "for i in dados_creche.index:\n",
    "    if not dados_creche.at[i, 'MAT_CRECHE'].is_integer():\n",
    "        dados_creche.at[i, 'MAT_CRECHE'] *= 1000\n",
    "    if not dados_creche.at[i, 'DEM_CRECHE'].is_integer():\n",
    "        dados_creche.at[i, 'DEM_CRECHE'] *= 1000\n",
    "    dados_creche.at[i, 'MES'] = dados_creche.at[i, 'MES_ANO_REF'][:3]\n",
    "    dados_creche.at[i, 'ANO'] = int(dados_creche.at[i, 'MES_ANO_REF'][4:]) + 2000\n",
    "    \n",
    "dados_creche = dados_creche[['DISTRITO', 'MAT_CRECHE', 'DEM_CRECHE', 'MES', 'ANO', 'MES_ANO_REF']]"
   ]
  },
  {
   "cell_type": "markdown",
   "metadata": {},
   "source": [
    "Agora, vamos obter os dados populacionais por distrito, com os dados da [SEADE](http://produtos.seade.gov.br/produtos/projpop/):"
   ]
  },
  {
   "cell_type": "code",
   "execution_count": 3,
   "metadata": {},
   "outputs": [],
   "source": [
    "dados_pop = pd.read_csv('dados/populacao.csv', sep = ';', encoding = 'ISO-8859-1')"
   ]
  },
  {
   "cell_type": "markdown",
   "metadata": {},
   "source": [
    "Para que os dados populacionais fiquem mais próximos aos da creche, vamos alterar o nome do distrito, deixando-o sem acentos e com caixa alta. Como os dados da população estão em números inteiros, não precisaremos remover os eventuais pontos (.) que indicam o milhar. Além disso, as colunas que selecionaremos terão os mesmos nomes nas nossas duas bases de dados (creche e população)."
   ]
  },
  {
   "cell_type": "code",
   "execution_count": 4,
   "metadata": {},
   "outputs": [],
   "source": [
    "# Filtra as colunas\n",
    "dados_pop = dados_pop[['Localidades', 'Períodos', 'População de 0 a 3 Anos']]\n",
    "dados_pop.columns = ['DISTRITO_F', 'ANO', 'TOTAL']\n",
    "    \n",
    "# Tira os acentos dos nomes dos distritos e deixa o nome de cada distrito em caixa alta\n",
    "dados_pop['DISTRITO'] = dados_pop['DISTRITO_F'].str.normalize('NFKD')\n",
    "dados_pop['DISTRITO'] = dados_pop['DISTRITO'].str.encode('ascii', errors='ignore').str.decode('utf-8')\n",
    "dados_pop['DISTRITO'] = dados_pop['DISTRITO'].str.upper()"
   ]
  },
  {
   "cell_type": "markdown",
   "metadata": {},
   "source": [
    "Precisamos juntar os dados, para que a análise seja feita de maneira mais eficiente. Teremos um dicionário com os seguintes valores:\n",
    "\n",
    "- Nome do distrito (em caixa alta e sem acentos);\n",
    "- Número de matriculas em creches;\n",
    "- Demanda de vagas em creches;\n",
    "- Mês de referência (mmm);\n",
    "- Ano de referência (aaaa);\n",
    "- População do distrito na faixa etária 00 a 03 anos."
   ]
  },
  {
   "cell_type": "code",
   "execution_count": 5,
   "metadata": {},
   "outputs": [],
   "source": [
    "dados_creche_pop = dados_creche.merge(dados_pop, on = ['DISTRITO', 'ANO'])"
   ]
  },
  {
   "cell_type": "markdown",
   "metadata": {},
   "source": [
    "## Visualização dos dados\n",
    "\n",
    "### Gráficos\n",
    "\n",
    "Para que a análise fique mais visual, vamos exibir alguns gráficos. Eles mostrarão, para cada distrito, a evolução do atendimento das creches municipais. Eles ficarão salvos na pasta `graficos`."
   ]
  },
  {
   "cell_type": "code",
   "execution_count": 6,
   "metadata": {},
   "outputs": [],
   "source": [
    "import matplotlib.pyplot as plt\n",
    "\n",
    "for distrito in dados_creche_pop.DISTRITO.unique():\n",
    "    dados = dados_creche_pop[dados_creche_pop['DISTRITO'] == distrito]\n",
    "    plt.ioff()\n",
    "    fig = plt.figure(dpi=400, figsize=(14, 6))\n",
    "    plt.title('Evolução do atendimento das creches em ' + dados.at[dados.index[0], 'DISTRITO_F'])\n",
    "    plt.plot(dados['MES_ANO_REF'], dados['MAT_CRECHE'], label='Matrículas nas creches do distrito', color='g')\n",
    "    plt.plot(dados['MES_ANO_REF'], dados['DEM_CRECHE'], label='Demanda no distrito', color='r')\n",
    "    plt.plot(dados['MES_ANO_REF'], dados['TOTAL'], label='Total da população no distrito', color='b')\n",
    "    plt.legend(loc='upper center', bbox_to_anchor=(0.5, -0.2),  shadow=True, ncol=2)\n",
    "    plt.ylabel('Crianças de 0 a 3 anos')\n",
    "    plt.xlabel('Data de Referência')\n",
    "    plt.xticks(rotation=90)\n",
    "    plt.savefig('graficos/' + distrito + '.png', bbox_inches='tight')\n",
    "    plt.close(fig)"
   ]
  },
  {
   "cell_type": "markdown",
   "metadata": {},
   "source": [
    "### Listas\n",
    "\n",
    "\n",
    "Vamos também gerar algumas listas como parte de nossa análise de dados. Afinal, temos 96 gráficos, e precisamos extrair as principais informações dos dados. As listas que faremos serão:\n",
    "\n",
    "- Atendimento (matrícula) absoluto por tempo.\n",
    "- Atendimento (matrícula) relativo (relação à população) por tempo.\n",
    "- Fila (demanda) absoluto por tempo.\n",
    "- Fila (demanda) relativo por tempo.\n",
    "- Variação entre junho de 2016 e dezembro de 2017 do atendimento absoluto.\n",
    "- Variação entre junho de 2016 e dezembro de 2017 do atendimento relativo.\n",
    "\n",
    "#### Lista do atendimento absoluto por tempo\n",
    "\n",
    "Para essa lista, será gerado um arquivo .csv para cada período de referência (trimestre) com os distritos ordenados pelo número de matrículas."
   ]
  },
  {
   "cell_type": "code",
   "execution_count": 6,
   "metadata": {},
   "outputs": [],
   "source": [
    "# Gerando os arquivos\n",
    "for periodo in dados_creche_pop.MES_ANO_REF.unique():\n",
    "    dados = dados_creche_pop[dados_creche_pop['MES_ANO_REF'] == periodo]\n",
    "    atendimento_absoluto = dados.sort_values(by='MAT_CRECHE', ascending=False)\n",
    "    atendimento_absoluto = atendimento_absoluto[['DISTRITO', 'MAT_CRECHE']] \n",
    "    atendimento_absoluto.to_csv('resultados/atendimento_absoluto/atendimento_absoluto_' + periodo + '.csv', encoding='utf-8', index=False)"
   ]
  },
  {
   "cell_type": "markdown",
   "metadata": {},
   "source": [
    "Também será gerado um gráfico mostrando a evolução do número de matrículas, comparando todos os distritos, mas talvez, fazendo um gráfico por zona, para ficar mais fácil de ver."
   ]
  },
  {
   "cell_type": "code",
   "execution_count": 8,
   "metadata": {},
   "outputs": [],
   "source": [
    "# Fazer gráficos por região/zona."
   ]
  },
  {
   "cell_type": "markdown",
   "metadata": {},
   "source": [
    "#### Lista do atendimento relativo por tempo\n",
    "\n",
    "Para essa lista, será gerado um arquivo .csv para cada período de referência (trimestre) com os distritos ordenados pelo quociente matrículas por total populacional."
   ]
  },
  {
   "cell_type": "code",
   "execution_count": 7,
   "metadata": {},
   "outputs": [],
   "source": [
    "dados_creche_pop['ATEND_REL'] = dados_creche_pop['MAT_CRECHE'] / dados_creche_pop['TOTAL']\n",
    "\n",
    "for periodo in dados_creche_pop.MES_ANO_REF.unique():\n",
    "    dados = dados_creche_pop[dados_creche_pop['MES_ANO_REF'] == periodo]\n",
    "    atendimento_relativo = dados.sort_values(by='ATEND_REL', ascending=False)\n",
    "    atendimento_relativo = atendimento_relativo[['DISTRITO', 'ATEND_REL']] \n",
    "    atendimento_relativo.to_csv('resultados/atendimento_relativo/atendimento_relativo_' + periodo + '.csv', encoding='utf-8', index=False)"
   ]
  },
  {
   "cell_type": "markdown",
   "metadata": {},
   "source": [
    "Também será gerado um gráfico mostrando a evolução do atendimento, comparando todos os distritos, mas talvez, fazendo um gráfico por zona, para ficar mais fácil de ver."
   ]
  },
  {
   "cell_type": "code",
   "execution_count": 10,
   "metadata": {},
   "outputs": [],
   "source": [
    "# Fazer gráficos por região/zona."
   ]
  },
  {
   "cell_type": "markdown",
   "metadata": {},
   "source": [
    "#### Lista da fila absoluta por tempo\n",
    "\n",
    "Para essa lista, será gerado um arquivo .csv para cada período de referência (trimestre) com os distritos ordenados pelo número de crianças na fila."
   ]
  },
  {
   "cell_type": "code",
   "execution_count": 8,
   "metadata": {},
   "outputs": [],
   "source": [
    "# Gerando os arquivos\n",
    "for periodo in dados_creche_pop.MES_ANO_REF.unique():\n",
    "    dados = dados_creche_pop[dados_creche_pop['MES_ANO_REF'] == periodo]\n",
    "    fila_absoluta = dados.sort_values(by='DEM_CRECHE', ascending=False)\n",
    "    fila_absoluta = fila_absoluta[['DISTRITO', 'DEM_CRECHE']] \n",
    "    fila_absoluta.to_csv('resultados/fila_absoluta/fila_absoluta_' + periodo + '.csv', encoding='utf-8', index=False)"
   ]
  },
  {
   "cell_type": "markdown",
   "metadata": {},
   "source": [
    "Também será gerado um gráfico mostrando a evolução do atendimento, comparando todos os distritos, mas talvez, fazendo um gráfico por zona, para ficar mais fácil de ver."
   ]
  },
  {
   "cell_type": "code",
   "execution_count": 12,
   "metadata": {},
   "outputs": [],
   "source": [
    "# Fazer gráficos por região/zona."
   ]
  },
  {
   "cell_type": "markdown",
   "metadata": {},
   "source": [
    "#### Lista do fila relativa por tempo\n",
    "\n",
    "Para essa lista, será gerado um arquivo .csv para cada período de referência (trimestre) com os distritos ordenados pelo quociente demanda por total populacional."
   ]
  },
  {
   "cell_type": "code",
   "execution_count": 9,
   "metadata": {},
   "outputs": [],
   "source": [
    "dados_creche_pop['FILA_REL'] = dados_creche_pop['DEM_CRECHE'] / dados_creche_pop['TOTAL']\n",
    "\n",
    "for periodo in dados_creche_pop.MES_ANO_REF.unique():\n",
    "    dados = dados_creche_pop[dados_creche_pop['MES_ANO_REF'] == periodo]\n",
    "    fila_relativa = dados.sort_values(by='FILA_REL', ascending=False)\n",
    "    fila_relativa = fila_relativa[['DISTRITO', 'FILA_REL']] \n",
    "    fila_relativa.to_csv('resultados/fila_relativa/fila_relativa_' + periodo + '.csv', encoding='utf-8', index=False)"
   ]
  },
  {
   "cell_type": "markdown",
   "metadata": {},
   "source": [
    "#### Lista da evolução absoluta do número de matrículas\n",
    "\n",
    "Essa lista trará a variação, do número de matrículas, de junho de 2006 a dezembro de 2017. A última coluna trará a variação percentual desses valores."
   ]
  },
  {
   "cell_type": "code",
   "execution_count": 28,
   "metadata": {},
   "outputs": [],
   "source": [
    "dados_matricula = dados_creche_pop[['DISTRITO', 'MAT_CRECHE', 'MES_ANO_REF']]\n",
    "dados_jun_2006 = dados_matricula[dados_matricula['MES_ANO_REF'] == 'jun-06']\n",
    "dados_jun_2006.columns = ['DISTRITO', 'MAT_JUN_06', 'MES_ANO_REF']\n",
    "dados_dez_2017 = dados_matricula[dados_matricula['MES_ANO_REF'] == 'dez-17']\n",
    "dados_dez_2017.columns = ['DISTRITO', 'MAT_DEZ_17', 'MES_ANO_REF']\n",
    "\n",
    "dados_matricula = dados_jun_2006.merge(dados_dez_2017, on = ['DISTRITO'])\n",
    "dados_matricula = dados_matricula[['DISTRITO', 'MAT_JUN_06', 'MAT_DEZ_17']]\n",
    "\n",
    "dados_matricula['EV_ABS_NUM'] = dados_matricula['MAT_DEZ_17'] - dados_matricula['MAT_JUN_06']\n",
    "dados_matricula['EV_ABS_PC'] = dados_matricula['MAT_DEZ_17'] / dados_matricula['MAT_JUN_06']\n",
    "# dados_matricula.sort_values(by='EV_ABS_NUM', ascending=False)\n",
    "# dados_matricula.sort_values(by='EV_ABS_PC', ascending=False)"
   ]
  },
  {
   "cell_type": "markdown",
   "metadata": {},
   "source": [
    "#### Lista da evolução absoluta da demanda\n",
    "\n",
    "Essa lista trará a variação, em número de crianças, de junho de 2006 a dezembro de 2017. A última coluna trará a variação percentual desses valores."
   ]
  },
  {
   "cell_type": "code",
   "execution_count": 38,
   "metadata": {},
   "outputs": [],
   "source": [
    "dados_demanda = dados_creche_pop[['DISTRITO', 'DEM_CRECHE', 'MES_ANO_REF']]\n",
    "dados_jun_2006 = dados_demanda[dados_demanda['MES_ANO_REF'] == 'jun-06']\n",
    "dados_jun_2006.columns = ['DISTRITO', 'DEM_JUN_06', 'MES_ANO_REF']\n",
    "dados_dez_2017 = dados_demanda[dados_demanda['MES_ANO_REF'] == 'dez-17']\n",
    "dados_dez_2017.columns = ['DISTRITO', 'DEM_DEZ_17', 'MES_ANO_REF']\n",
    "\n",
    "dados_demanda = dados_jun_2006.merge(dados_dez_2017, on = ['DISTRITO'])\n",
    "dados_demanda = dados_demanda[['DISTRITO', 'DEM_JUN_06', 'DEM_DEZ_17']]\n",
    "\n",
    "dados_demanda['EV_ABS_NUM'] = dados_demanda['DEM_DEZ_17'] - dados_demanda['DEM_JUN_06']\n",
    "dados_demanda['EV_ABS_PC'] = dados_demanda['DEM_DEZ_17'] / dados_demanda['DEM_JUN_06']\n",
    "# dados_demanda.sort_values(by='EV_ABS_NUM', ascending=True)\n",
    "# dados_demanda.sort_values(by='EV_ABS_PC', ascending=True)"
   ]
  },
  {
   "cell_type": "code",
   "execution_count": null,
   "metadata": {},
   "outputs": [],
   "source": []
  }
 ],
 "metadata": {
  "kernelspec": {
   "display_name": "Python 3",
   "language": "python",
   "name": "python3"
  },
  "language_info": {
   "codemirror_mode": {
    "name": "ipython",
    "version": 3
   },
   "file_extension": ".py",
   "mimetype": "text/x-python",
   "name": "python",
   "nbconvert_exporter": "python",
   "pygments_lexer": "ipython3",
   "version": "3.6.6"
  }
 },
 "nbformat": 4,
 "nbformat_minor": 2
}
