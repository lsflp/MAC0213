{
 "cells": [
  {
   "cell_type": "markdown",
   "metadata": {},
   "source": [
    "## Análise de dados da fila da creche no município de São Paulo"
   ]
  },
  {
   "cell_type": "markdown",
   "metadata": {},
   "source": [
    "Obtendo os dados das matrículas na rede municipal de educação:"
   ]
  },
  {
   "cell_type": "code",
   "execution_count": 41,
   "metadata": {},
   "outputs": [],
   "source": [
    "import csv\n",
    "with open('dados/evolucaodemanda.csv', 'r') as dados_fila_creche:\n",
    "    dict_dados_fila_creche = csv.DictReader(dados_fila_creche, delimiter=';')"
   ]
  },
  {
   "cell_type": "markdown",
   "metadata": {},
   "source": [
    "Obtendo os dados populacionais, ano a ano, da faixa etária 00 a 03 anos, dos distritos da cidade:"
   ]
  },
  {
   "cell_type": "code",
   "execution_count": 43,
   "metadata": {},
   "outputs": [],
   "source": [
    "with open('dados/populacao/DIS_FXE_DIS_2011.csv', 'r', encoding=\"ISO-8859-1\") as populacao_dist_2011:\n",
    "    dict_populacao_dist_2011 = csv.DictReader(populacao_dist_2011, delimiter=';')\n",
    "    \n",
    "with open('dados/populacao/DIS_FXE_DIS_2012.csv', 'r', encoding=\"ISO-8859-1\") as populacao_dist_2012:\n",
    "    dict_populacao_dist_2012 = csv.DictReader(populacao_dist_2012, delimiter=';')\n",
    "    \n",
    "with open('dados/populacao/DIS_FXE_DIS_2013.csv', 'r', encoding=\"ISO-8859-1\") as populacao_dist_2013:\n",
    "    dict_populacao_dist_2013 = csv.DictReader(populacao_dist_2013, delimiter=';')\n",
    "    \n",
    "with open('dados/populacao/DIS_FXE_DIS_2014.csv', 'r', encoding=\"ISO-8859-1\") as populacao_dist_2014:\n",
    "    dict_populacao_dist_2014 = csv.DictReader(populacao_dist_2014, delimiter=';')\n",
    "    \n",
    "with open('dados/populacao/DIS_FXE_DIS_2015.csv', 'r', encoding=\"ISO-8859-1\") as populacao_dist_2015:\n",
    "    dict_populacao_dist_2015 = csv.DictReader(populacao_dist_2015, delimiter=';')\n",
    "    \n",
    "with open('dados/populacao/DIS_FXE_DIS_2016.csv', 'r', encoding=\"ISO-8859-1\") as populacao_dist_2016:\n",
    "    dict_populacao_dist_2016 = csv.DictReader(populacao_dist_2016, delimiter=';')\n",
    "    \n",
    "with open('dados/populacao/DIS_FXE_DIS_2017.csv', 'r', encoding=\"ISO-8859-1\") as populacao_dist_2017:\n",
    "    dict_populacao_dist_2017 = csv.DictReader(populacao_dist_2017, delimiter=';')"
   ]
  },
  {
   "cell_type": "markdown",
   "metadata": {},
   "source": [
    "Precisamos juntar os dados, para que a análise seja feita de maneira mais eficiente. Teremos um dicionário com os seguintes valores:\n",
    "\n",
    "- Nome do distrito (em caixa alta e sem acentos);\n",
    "- Número de matriculas em creches;\n",
    "- Demanda de vagas em creches;\n",
    "- População do distrito na faixa etária 00 a 03 anos;\n",
    "- Período de referência (mmm-aa)."
   ]
  },
  {
   "cell_type": "code",
   "execution_count": null,
   "metadata": {},
   "outputs": [],
   "source": []
  }
 ],
 "metadata": {
  "kernelspec": {
   "display_name": "Python 3",
   "language": "python",
   "name": "python3"
  },
  "language_info": {
   "codemirror_mode": {
    "name": "ipython",
    "version": 3
   },
   "file_extension": ".py",
   "mimetype": "text/x-python",
   "name": "python",
   "nbconvert_exporter": "python",
   "pygments_lexer": "ipython3",
   "version": "3.6.5"
  }
 },
 "nbformat": 4,
 "nbformat_minor": 2
}
