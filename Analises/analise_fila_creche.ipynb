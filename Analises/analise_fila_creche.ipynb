{
 "cells": [
  {
   "cell_type": "markdown",
   "metadata": {},
   "source": [
    "## Análise de dados da fila da creche no município de São Paulo"
   ]
  },
  {
   "cell_type": "markdown",
   "metadata": {},
   "source": [
    "Obtendo os dados das matrículas na rede municipal de educação, obtidos [aqui](http://dados.prefeitura.sp.gov.br/dataset/demanda-por-vagas-educacao-infantil-e-eja):"
   ]
  },
  {
   "cell_type": "code",
   "execution_count": 32,
   "metadata": {},
   "outputs": [],
   "source": [
    "import pandas as pd\n",
    "\n",
    "data_creche = pd.read_csv('dados/evolucaodemanda.csv', sep = ';')"
   ]
  },
  {
   "cell_type": "markdown",
   "metadata": {},
   "source": [
    "Temos que filtrar apenas as colunas que necessárias. Além disso, é preciso limpar os dados, pois algumas linhas possuem os números com um ponto (.) para indicar o milhar. Por conveniência, o ano de referência será deixado em uma coluna a parte. "
   ]
  },
  {
   "cell_type": "code",
   "execution_count": 33,
   "metadata": {},
   "outputs": [],
   "source": [
    "for i in data_creche.index:\n",
    "    if not data_creche.at[i, 'MAT_CRECHE'].is_integer():\n",
    "        data_creche.at[i, 'MAT_CRECHE'] *= 1000\n",
    "    if not data_creche.at[i, 'DEM_CRECHE'].is_integer():\n",
    "        data_creche.at[i, 'DEM_CRECHE'] *= 1000\n",
    "    data_creche.at[i, 'MES'] = data_creche.at[i, 'MES_ANO_REF'][:3]\n",
    "    data_creche.at[i, 'ANO'] = int(data_creche.at[i, 'MES_ANO_REF'][4:]) + 2000\n",
    "    \n",
    "data_creche = data_creche[['DISTRITO', 'MAT_CRECHE', 'DEM_CRECHE', 'MES', 'ANO']]"
   ]
  },
  {
   "cell_type": "markdown",
   "metadata": {},
   "source": [
    "Agora, vamos obter os dados populacionais por distrito, com os dados da [SEADE](http://produtos.seade.gov.br/produtos/projpop/):"
   ]
  },
  {
   "cell_type": "code",
   "execution_count": 34,
   "metadata": {},
   "outputs": [],
   "source": [
    "data_pop = pd.read_csv('dados/populacao.csv', sep = ';', encoding = \"ISO-8859-1\")"
   ]
  },
  {
   "cell_type": "markdown",
   "metadata": {},
   "source": [
    "Para que os dados populacionais fiquem mais próximos aos da creche, vamos alterar o nome do distrito, deixando-o sem acentos e com caixa alta. Como os dados da população estão em números inteiros, não precisaremos remover os eventuais pontos (.) que indicam o milhar. Além disso, as colunas que selecionaremos terão os mesmos nomes nas nossas duas bases de dados (creche e população)."
   ]
  },
  {
   "cell_type": "code",
   "execution_count": 35,
   "metadata": {},
   "outputs": [],
   "source": [
    "# Filtra as colunas\n",
    "data_pop = data_pop[['Localidades', 'Períodos', 'População de 0 a 3 Anos']]\n",
    "data_pop.columns = ['DISTRITO', 'ANO', 'TOTAL']\n",
    "    \n",
    "# Tira os acentos dos nomes dos distritos e deixa o nome de cada distrito em caixa alta e \n",
    "data_pop['DISTRITO'] = data_pop['DISTRITO'].str.normalize('NFKD')\n",
    "data_pop['DISTRITO'] = data_pop['DISTRITO'].str.encode('ascii', errors='ignore').str.decode('utf-8')\n",
    "data_pop['DISTRITO'] = data_pop['DISTRITO'].str.upper()"
   ]
  },
  {
   "cell_type": "markdown",
   "metadata": {},
   "source": [
    "Precisamos juntar os dados, para que a análise seja feita de maneira mais eficiente. Teremos um dicionário com os seguintes valores:\n",
    "\n",
    "- Nome do distrito (em caixa alta e sem acentos);\n",
    "- Número de matriculas em creches;\n",
    "- Demanda de vagas em creches;\n",
    "- Mês de referência (mmm);\n",
    "- Ano de referência (aaaa);\n",
    "- População do distrito na faixa etária 00 a 03 anos."
   ]
  },
  {
   "cell_type": "code",
   "execution_count": 36,
   "metadata": {},
   "outputs": [],
   "source": [
    "data_creche_pop = data_creche.merge(data_pop, on = ['DISTRITO', 'ANO'])"
   ]
  }
 ],
 "metadata": {
  "kernelspec": {
   "display_name": "Python 3",
   "language": "python",
   "name": "python3"
  },
  "language_info": {
   "codemirror_mode": {
    "name": "ipython",
    "version": 3
   },
   "file_extension": ".py",
   "mimetype": "text/x-python",
   "name": "python",
   "nbconvert_exporter": "python",
   "pygments_lexer": "ipython3",
   "version": "3.5.2"
  }
 },
 "nbformat": 4,
 "nbformat_minor": 2
}
