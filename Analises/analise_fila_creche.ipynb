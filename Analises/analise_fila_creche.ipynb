{
 "cells": [
  {
   "cell_type": "markdown",
   "metadata": {},
   "source": [
    "## Análise de dados da fila da creche no município de São Paulo"
   ]
  },
  {
   "cell_type": "markdown",
   "metadata": {},
   "source": [
    "Obtendo os dados das matrículas na rede municipal de educação, obtidos [aqui](http://dados.prefeitura.sp.gov.br/dataset/demanda-por-vagas-educacao-infantil-e-eja):"
   ]
  },
  {
   "cell_type": "code",
   "execution_count": 1,
   "metadata": {},
   "outputs": [],
   "source": [
    "import pandas as pd\n",
    "\n",
    "data_creche = pd.read_csv('dados/evolucaodemanda.csv', sep = ';')"
   ]
  },
  {
   "cell_type": "markdown",
   "metadata": {},
   "source": [
    "Temos que filtrar apenas as colunas que necessárias. Além disso, é preciso limpar os dados, pois algumas linhas possuem os números com um ponto (.) para indicar o milhar. Por conveniência, o ano de referência será deixado em uma coluna a parte. "
   ]
  },
  {
   "cell_type": "code",
   "execution_count": 2,
   "metadata": {},
   "outputs": [],
   "source": [
    "data_creche = data_creche[['DISTRITO', 'MAT_CRECHE', 'DEM_CRECHE', 'MES_ANO_REF']]\n",
    "\n",
    "for i in data_creche.index:\n",
    "    if not data_creche.at[i, 'MAT_CRECHE'].is_integer():\n",
    "        data_creche.at[i, 'MAT_CRECHE'] *= 1000\n",
    "    if not data_creche.at[i, 'DEM_CRECHE'].is_integer():\n",
    "        data_creche.at[i, 'DEM_CRECHE'] *= 1000\n",
    "    data_creche.at[i, 'ANO'] = int(data_creche.at[i, 'MES_ANO_REF'][4:]) + 2000"
   ]
  },
  {
   "cell_type": "markdown",
   "metadata": {},
   "source": [
    "Agora, vamos obter os dados populacionais por distrito, com os dados da [SEADE](http://produtos.seade.gov.br/produtos/projpop/):"
   ]
  },
  {
   "cell_type": "code",
   "execution_count": 10,
   "metadata": {},
   "outputs": [],
   "source": [
    "data_pop_2011 = pd.read_csv('dados/populacao/DIS_FXE_DIS_2011.csv', sep = ';', encoding = \"ISO-8859-1\")\n",
    "data_pop_2012 = pd.read_csv('dados/populacao/DIS_FXE_DIS_2012.csv', sep = ';', encoding = \"ISO-8859-1\")\n",
    "data_pop_2013 = pd.read_csv('dados/populacao/DIS_FXE_DIS_2013.csv', sep = ';', encoding = \"ISO-8859-1\")\n",
    "data_pop_2014 = pd.read_csv('dados/populacao/DIS_FXE_DIS_2014.csv', sep = ';', encoding = \"ISO-8859-1\")\n",
    "data_pop_2015 = pd.read_csv('dados/populacao/DIS_FXE_DIS_2015.csv', sep = ';', encoding = \"ISO-8859-1\")\n",
    "data_pop_2016 = pd.read_csv('dados/populacao/DIS_FXE_DIS_2016.csv', sep = ';', encoding = \"ISO-8859-1\")\n",
    "data_pop_2017 = pd.read_csv('dados/populacao/DIS_FXE_DIS_2017.csv', sep = ';', encoding = \"ISO-8859-1\")"
   ]
  },
  {
   "cell_type": "markdown",
   "metadata": {},
   "source": [
    "Vamos filtrar apenas as colunas necessárias aqui também. Juntamente com isso, é preciso tratar os dados da população, assim como os dados da creche. A diferença é que aqui teremos que excluir linhas. Os arquivos fornecidos têm as linhas no seguinte padrão:\n",
    "\n",
    "   - ID do distrito, Nome do Distrito, Ano do dado, Seleção feita, População (linha da faixa etária);\n",
    "   - ID do distrito, Nome do Distrito, Ano do dado, Seleção feita, População (linha da seleção, no caso, igual à anterior);\n",
    "   - ID do distrito, Nome do Distrito, Ano do dado, Seleção feita, População (linha da população geral do distrito).\n",
    "   \n",
    "Precisamos apenas das linhas que correspondem ao primeiro padrão. Além disso, os dados que representam a população serão limpos pois alguns possuem um ponto (.), que representam o milhar. Para que os dados populacionais fiquem mais próximos aos da creche, vamos alterar também o nome do distrito, deixando-o sem acentos e com caixa alta."
   ]
  },
  {
   "cell_type": "code",
   "execution_count": 11,
   "metadata": {},
   "outputs": [],
   "source": [
    "def arrumaDados(dado):\n",
    "    \n",
    "    # Filtra as colunas\n",
    "    dado = dado[['Nome Localidade', 'Ano', 'Total']]\n",
    "    \n",
    "    # Pega os índices para serem excluídos\n",
    "    indices = list()\n",
    "    for i in dado.index:\n",
    "        if i % 3 != 0:\n",
    "            indices.append(i)\n",
    "    dado = dado.drop(dado.index[indices])\n",
    "    \n",
    "    # Tira os acentos dos nomes dos distritos\n",
    "    dado['Nome Localidade'] = dado['Nome Localidade'].str.normalize('NFKD')\n",
    "    dado['Nome Localidade'] = dado['Nome Localidade'].str.encode('ascii', errors='ignore').str.decode('utf-8')\n",
    "    \n",
    "    # Deixa o nome de cada distrito em caixa alta e tira a pontuação dos valores no total de população\n",
    "    for i in dado.index:\n",
    "        dado.at[i, 'Nome Localidade'] = dado.at[i, 'Nome Localidade'].upper()\n",
    "        if not dado.at[i, 'Total'].is_integer():\n",
    "            dado.at[i, 'Total'] *= 1000\n",
    "    return dado\n",
    "\n",
    "data_pop_2011 = arrumaDados(data_pop_2011)\n",
    "data_pop_2012 = arrumaDados(data_pop_2012)\n",
    "data_pop_2013 = arrumaDados(data_pop_2013)\n",
    "data_pop_2014 = arrumaDados(data_pop_2014)\n",
    "data_pop_2015 = arrumaDados(data_pop_2015)\n",
    "data_pop_2016 = arrumaDados(data_pop_2016)\n",
    "data_pop_2017 = arrumaDados(data_pop_2017)"
   ]
  },
  {
   "cell_type": "markdown",
   "metadata": {},
   "source": [
    "Vamos juntar os dados de todos os anos para termos apenas um conjunto de dados referente à população. Além disso, as colunas terão os mesmos nomes nas nossas duas bases de dados (creche e população)."
   ]
  },
  {
   "cell_type": "code",
   "execution_count": 16,
   "metadata": {},
   "outputs": [],
   "source": [
    "data_pop = pd.concat([data_pop_2011, data_pop_2012, data_pop_2013, data_pop_2014, data_pop_2015, data_pop_2016, data_pop_2017])\n",
    "data_pop.columns = ['DISTRITO', 'ANO', 'TOTAL']"
   ]
  },
  {
   "cell_type": "markdown",
   "metadata": {},
   "source": [
    "Precisamos juntar os dados, para que a análise seja feita de maneira mais eficiente. Teremos um dicionário com os seguintes valores:\n",
    "\n",
    "- Nome do distrito (em caixa alta e sem acentos);\n",
    "- Número de matriculas em creches;\n",
    "- Demanda de vagas em creches;\n",
    "- População do distrito na faixa etária 00 a 03 anos;\n",
    "- Período de referência (mmm-aa).\n",
    "- População total naquele ano."
   ]
  },
  {
   "cell_type": "code",
   "execution_count": 18,
   "metadata": {},
   "outputs": [],
   "source": [
    "data_creche_pop = data_creche.merge(data_pop, on = ['DISTRITO', 'ANO'])"
   ]
  }
 ],
 "metadata": {
  "kernelspec": {
   "display_name": "Python 3",
   "language": "python",
   "name": "python3"
  },
  "language_info": {
   "codemirror_mode": {
    "name": "ipython",
    "version": 3
   },
   "file_extension": ".py",
   "mimetype": "text/x-python",
   "name": "python",
   "nbconvert_exporter": "python",
   "pygments_lexer": "ipython3",
   "version": "3.6.5"
  }
 },
 "nbformat": 4,
 "nbformat_minor": 2
}
